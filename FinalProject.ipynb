{
 "cells": [
  {
   "cell_type": "markdown",
   "metadata": {},
   "source": [
    "# Overview"
   ]
  },
  {
   "cell_type": "markdown",
   "metadata": {},
   "source": [
    "As the pace of life continues to accelerate, more and more people are having different degrees of mental health problems. According to a recent survey, one in four people in the world will be affected by mental or neurological disorders at some point in their lives. If mental problems are not carefully taken care of, commiting suicide will become the most irreparable tragedy in the end. As a team, we want to investigate into different potential factors that may cause suicidal behavior. Specifically in our project, we focus on the relationship between suicide rate and gender, country, GDP(Gross domestic product, a monetary measure of the market value of all the final goods and services produced in a period of time) and HDI(Human Development Index, a statistic composite index of life expectancy, education, and per capita income indicators). We hope to shed light on such serious mental issues and effectively intervene and prevent suicidal behaviors."
   ]
  },
  {
   "cell_type": "markdown",
   "metadata": {},
   "source": [
    "# Names\n",
    "\n",
    "- Sainan Chen\n",
    "- Liying Gui\n",
    "- Yuechen Liu\n",
    "- Kunal Parilekar\n",
    "- Maryam Rahdaran\n",
    "- Mingshuo Yu"
   ]
  },
  {
   "cell_type": "markdown",
   "metadata": {},
   "source": [
    "# Group Members IDs\n",
    "\n",
    "- A14483750\n",
    "- A14428755\n",
    "- A15682187\n",
    "- A12747850\n",
    "- A15714113\n",
    "- A14754971"
   ]
  },
  {
   "cell_type": "markdown",
   "metadata": {},
   "source": [
    "# Research Question"
   ]
  },
  {
   "cell_type": "markdown",
   "metadata": {},
   "source": [
    "Based on the dataset, we want to know that is suicide rate growing every year (the trend of suicide rate), in general, which population is more likely to commit suicide? (country, age, gender), for each Top suicide rate country, analyse which age or gender are more likely to commit suicide, Is there any relationship between country wealth (GDP) and suiside rate? Is there any relationship between country HDI and suiside rate?Is there any difference between MEDC (developed countries) and LEDC(developing countries) about suicide rate across year levels? (HT) As a result, research for what affects suicide rate so we could use it to prevent people from commiting suicide."
   ]
  },
  {
   "cell_type": "markdown",
   "metadata": {},
   "source": [
    "# Background and Prior Work"
   ]
  },
  {
   "cell_type": "markdown",
   "metadata": {},
   "source": [
    "Suicide has became one of the major causes of death in recent years. According to World Health Organization (WHO), there are 800,000 people commit suicide every year, which is twice the population for all UC campus, and it equals to one life lose every 40 seconds. The trend of increasing suicide rate can also be seen from previous researches. According to Bertolote and Fleischmann, global suicide rates per 100,000 population increased from 22 in 1950 to 32 in 1995, and finally expected to 37 in 2020. They also mentions that total estimate of suicide in 2020 would be 1.53 million. \n",
    "\n",
    "To effectively reduce the suicide rate, social behavior scientists and psychologists want to find out if suicide is related to physical conditions. Another two focus of Bertolote and Fleischmann’s paper is correlation of gender and age with suicide rate. Generally the male suicide rate is higher than female and the ratio is still growing every year (3.2:1 in 1950, 3.6:1 in 1995 and 3.9:1 in 2020). Furthermore, when the age increases, the suicide rate also increases (rate of 1.2 in age group 5-14, and 55.7 in age group over 75). Another factor influencing suicide rate that Antonio and Preti mentioned in their paper is climate and season. Elders’ suicide time distribution is more seasonally asymmetric, and people are more likely to commit suicide with violent methods during spring time than late autumns. In contrast, non-violent suicide has the opposite time distribution from violent suicide time distribution. More specifically, suicide rate is positively correlated to temperature and exposure to sun. \n",
    "\n",
    "In our project, besides looking at the suicide trend and checking the influence of gender and age on suicide rate using 30-year data, we want to further investigate if the country people live also affects suicide rate by looking at the country’s HDI and GDP. \n",
    "\n",
    "References:\n",
    "- 1)Bertolote, Manoel José and Fleischmann Alexandra Fleischmann. “A global perspective\n",
    "in the epidemiology of suicide.” Suicidologi, 2002, årg. 7, nr. 2. https://www.iasp.info/pdf/papers/Bertolote.pdf.\n",
    "- 2) Antonio Preti,􏰒, Paola Miotto, 1998. “Seasonality in suicides: the influence of suicide method, gender and age on suicide distribution in Italy.” Psychiatry Research, Volume 81, Issue 2, 16 November 1998, Pages 219-231. https://www.sciencedirect.com/science/article/pii/S0165178198000997."
   ]
  },
  {
   "cell_type": "markdown",
   "metadata": {},
   "source": [
    "# Hypothesis\n"
   ]
  },
  {
   "cell_type": "markdown",
   "metadata": {},
   "source": [
    "We have 1 main Hypothesis:\n",
    "\n",
    "**There exists relationships that connect people that commit suicide and factors outside of their control such as age, gender, their country's GPD, and what time period etc. This is based on the following sub-hypotheses:**\n",
    "\n",
    "1. There is a positive linear relationship between suicide rate and year. \n",
    "        -We believe that that as the pressures of the increasingly modern world increase, so will the suicide rate.\n",
    "        \n",
    "2. There is a relationship between gender and and suicide rate.\n",
    "        -There have been studies done that show that men commit suicide at a higher rate than women, we believe this. \n",
    "\n",
    "3. There is a positive linear relationship between age and suicide rate.\n",
    "        -We believe that as life goes on, one is probably exposed to more pressures, and thus is more likely to commit suicide.\n",
    "        \n",
    "4. There is a linear relationship between GDP per Capita, and suicide rate. \n",
    "        -We aren't sure whether there will be a positive or negative relationship, because of both high and low gdp come with their own set of struggles. We simply hypothesize that there will be a relationship.\n",
    "\n",
    "5. There is a negative linear relationship between Human Development Index and suicide rate.\n",
    "        -We believe that as you have fewer things to worry about as measured by HDI, but we aren't super sure about this."
   ]
  },
  {
   "cell_type": "markdown",
   "metadata": {},
   "source": [
    "# Dataset(s)"
   ]
  },
  {
   "cell_type": "markdown",
   "metadata": {},
   "source": [
    "Main data source: https://www.kaggle.com/russellyates88/suicide-rates-overview-1985-to-2016/\n",
    "\n",
    "HDI data source: http://hdr.undp.org/en/indicators/137506\n",
    "\n",
    "The Kaggle dataset consists of information about suicide rates between 1985 to 2016 from 101 countries.  (Not all countries are represented due to unavailability of data from countries in Africa, Southeast Asia, and Eastern Mediterranian. See Suicidologi 2002: 7(2), http://www.journals.uio.no/index.php/suicidologi/article/viewFile/2330/2193).\n",
    "\n",
    "Features in this dataset include:  \n",
    "\n",
    "- Country: a unique name for each country \n",
    "- Year : include years from 1985 to 2016 \n",
    "- Sex: male/ female \n",
    "- Age: age range of persons that commited suicide ( 5-14, 15-24, 25-34, 35-54, 55-74, and 75+ )\n",
    "- Suicide-no: the number of suicides per country, year, sex and age group \n",
    "- Population: Population a country-year-sex-age level. \n",
    "- suicides/100k pop:  the number of suicides per country, year, sex and age group/ 100k population by country-year-sex-age level. \n",
    "- country-year: the year that suicides happened \n",
    "- HDI for year:  Human Development Index \n",
    "- gdp_for_year : Gross Domestic Product per year for a country \n",
    "- gdp_per_capita : Gross Domestic Product (GDP) per capita (per person).\n",
    "- Generation: the generation of persons that committed suicide. Such as: Boomers, generation X, and etc.\n",
    "\n",
    "the number of observation: 27820 rows, 12 columns.\n",
    "\n",
    "HDI report dataset includes the HDI between 1990 to 2017 for each country. We used this data set to fill out missing HDI data in Kaggle dataset. in this dataset the rows are countries and columns are years.\n",
    "\n",
    "The way we combined this was by going through the main dataset, and finding which values for HDI were missing. From this, we were able to check if that information existed in our supplementary HDI dataset. If it did, we simply entered that value into the main dataset. Finally, if there were missing datapoints, we made them -1. \n"
   ]
  },
  {
   "cell_type": "markdown",
   "metadata": {},
   "source": [
    "# Setup"
   ]
  },
  {
   "cell_type": "code",
   "execution_count": 1,
   "metadata": {},
   "outputs": [
    {
     "name": "stderr",
     "output_type": "stream",
     "text": [
      "/opt/conda/lib/python3.6/site-packages/statsmodels/compat/pandas.py:56: FutureWarning: The pandas.core.datetools module is deprecated and will be removed in a future version. Please use the pandas.tseries module instead.\n",
      "  from pandas.core import datetools\n"
     ]
    }
   ],
   "source": [
    "#Import the libraries\n",
    "%matplotlib inline\n",
    "\n",
    "import numpy as np\n",
    "import pandas as pd\n",
    "import matplotlib.pyplot as plt\n",
    "\n",
    "import patsy\n",
    "import statsmodels.api as sm\n",
    "import statsmodels.formula.api as smf\n",
    "import seaborn as sns\n",
    "\n",
    "import scipy.stats as stats\n",
    "from scipy.stats import ttest_ind, chisquare, normaltest"
   ]
  },
  {
   "cell_type": "markdown",
   "metadata": {},
   "source": [
    "# Data Cleaning"
   ]
  },
  {
   "cell_type": "code",
   "execution_count": 2,
   "metadata": {},
   "outputs": [],
   "source": [
    "#Set up the dataframe\n",
    "main_df = pd.read_csv(\"master.csv\")\n",
    "#Set up the supplementary dataframe for HDI, since there are a lot of missing values for HDI\n",
    "#In the original df\n",
    "supp_df = pd.read_csv(\"Human-development-index-HDI.csv\", encoding='latin-1')"
   ]
  },
  {
   "cell_type": "code",
   "execution_count": 3,
   "metadata": {},
   "outputs": [
    {
     "name": "stdout",
     "output_type": "stream",
     "text": [
      "1985\n"
     ]
    }
   ],
   "source": [
    "#Now combine the two databases\n",
    "#Get the earliest year from the main database\n",
    "min_year = main_df['year'].min()\n",
    "print(min_year) #This falls before the first year of the supp database so leave it for now"
   ]
  },
  {
   "cell_type": "code",
   "execution_count": 4,
   "metadata": {},
   "outputs": [
    {
     "data": {
      "text/html": [
       "<div>\n",
       "<style scoped>\n",
       "    .dataframe tbody tr th:only-of-type {\n",
       "        vertical-align: middle;\n",
       "    }\n",
       "\n",
       "    .dataframe tbody tr th {\n",
       "        vertical-align: top;\n",
       "    }\n",
       "\n",
       "    .dataframe thead th {\n",
       "        text-align: right;\n",
       "    }\n",
       "</style>\n",
       "<table border=\"1\" class=\"dataframe\">\n",
       "  <thead>\n",
       "    <tr style=\"text-align: right;\">\n",
       "      <th></th>\n",
       "      <th>country</th>\n",
       "      <th>year</th>\n",
       "      <th>sex</th>\n",
       "      <th>age</th>\n",
       "      <th>suicides_no</th>\n",
       "      <th>population</th>\n",
       "      <th>suicides/100k pop</th>\n",
       "      <th>country-year</th>\n",
       "      <th>HDI for year</th>\n",
       "      <th>gdp_for_year ($)</th>\n",
       "      <th>gdp_per_capita ($)</th>\n",
       "      <th>generation</th>\n",
       "    </tr>\n",
       "  </thead>\n",
       "  <tbody>\n",
       "    <tr>\n",
       "      <th>0</th>\n",
       "      <td>Albania</td>\n",
       "      <td>1987</td>\n",
       "      <td>male</td>\n",
       "      <td>15-24 years</td>\n",
       "      <td>21</td>\n",
       "      <td>312900</td>\n",
       "      <td>6.71</td>\n",
       "      <td>Albania1987</td>\n",
       "      <td>NaN</td>\n",
       "      <td>2,156,624,900</td>\n",
       "      <td>796</td>\n",
       "      <td>Generation X</td>\n",
       "    </tr>\n",
       "    <tr>\n",
       "      <th>1</th>\n",
       "      <td>Albania</td>\n",
       "      <td>1987</td>\n",
       "      <td>male</td>\n",
       "      <td>35-54 years</td>\n",
       "      <td>16</td>\n",
       "      <td>308000</td>\n",
       "      <td>5.19</td>\n",
       "      <td>Albania1987</td>\n",
       "      <td>NaN</td>\n",
       "      <td>2,156,624,900</td>\n",
       "      <td>796</td>\n",
       "      <td>Silent</td>\n",
       "    </tr>\n",
       "    <tr>\n",
       "      <th>2</th>\n",
       "      <td>Albania</td>\n",
       "      <td>1987</td>\n",
       "      <td>female</td>\n",
       "      <td>15-24 years</td>\n",
       "      <td>14</td>\n",
       "      <td>289700</td>\n",
       "      <td>4.83</td>\n",
       "      <td>Albania1987</td>\n",
       "      <td>NaN</td>\n",
       "      <td>2,156,624,900</td>\n",
       "      <td>796</td>\n",
       "      <td>Generation X</td>\n",
       "    </tr>\n",
       "    <tr>\n",
       "      <th>3</th>\n",
       "      <td>Albania</td>\n",
       "      <td>1987</td>\n",
       "      <td>male</td>\n",
       "      <td>75+ years</td>\n",
       "      <td>1</td>\n",
       "      <td>21800</td>\n",
       "      <td>4.59</td>\n",
       "      <td>Albania1987</td>\n",
       "      <td>NaN</td>\n",
       "      <td>2,156,624,900</td>\n",
       "      <td>796</td>\n",
       "      <td>G.I. Generation</td>\n",
       "    </tr>\n",
       "    <tr>\n",
       "      <th>4</th>\n",
       "      <td>Albania</td>\n",
       "      <td>1987</td>\n",
       "      <td>male</td>\n",
       "      <td>25-34 years</td>\n",
       "      <td>9</td>\n",
       "      <td>274300</td>\n",
       "      <td>3.28</td>\n",
       "      <td>Albania1987</td>\n",
       "      <td>NaN</td>\n",
       "      <td>2,156,624,900</td>\n",
       "      <td>796</td>\n",
       "      <td>Boomers</td>\n",
       "    </tr>\n",
       "    <tr>\n",
       "      <th>5</th>\n",
       "      <td>Albania</td>\n",
       "      <td>1987</td>\n",
       "      <td>female</td>\n",
       "      <td>75+ years</td>\n",
       "      <td>1</td>\n",
       "      <td>35600</td>\n",
       "      <td>2.81</td>\n",
       "      <td>Albania1987</td>\n",
       "      <td>NaN</td>\n",
       "      <td>2,156,624,900</td>\n",
       "      <td>796</td>\n",
       "      <td>G.I. Generation</td>\n",
       "    </tr>\n",
       "    <tr>\n",
       "      <th>6</th>\n",
       "      <td>Albania</td>\n",
       "      <td>1987</td>\n",
       "      <td>female</td>\n",
       "      <td>35-54 years</td>\n",
       "      <td>6</td>\n",
       "      <td>278800</td>\n",
       "      <td>2.15</td>\n",
       "      <td>Albania1987</td>\n",
       "      <td>NaN</td>\n",
       "      <td>2,156,624,900</td>\n",
       "      <td>796</td>\n",
       "      <td>Silent</td>\n",
       "    </tr>\n",
       "    <tr>\n",
       "      <th>7</th>\n",
       "      <td>Albania</td>\n",
       "      <td>1987</td>\n",
       "      <td>female</td>\n",
       "      <td>25-34 years</td>\n",
       "      <td>4</td>\n",
       "      <td>257200</td>\n",
       "      <td>1.56</td>\n",
       "      <td>Albania1987</td>\n",
       "      <td>NaN</td>\n",
       "      <td>2,156,624,900</td>\n",
       "      <td>796</td>\n",
       "      <td>Boomers</td>\n",
       "    </tr>\n",
       "    <tr>\n",
       "      <th>8</th>\n",
       "      <td>Albania</td>\n",
       "      <td>1987</td>\n",
       "      <td>male</td>\n",
       "      <td>55-74 years</td>\n",
       "      <td>1</td>\n",
       "      <td>137500</td>\n",
       "      <td>0.73</td>\n",
       "      <td>Albania1987</td>\n",
       "      <td>NaN</td>\n",
       "      <td>2,156,624,900</td>\n",
       "      <td>796</td>\n",
       "      <td>G.I. Generation</td>\n",
       "    </tr>\n",
       "    <tr>\n",
       "      <th>9</th>\n",
       "      <td>Albania</td>\n",
       "      <td>1987</td>\n",
       "      <td>female</td>\n",
       "      <td>5-14 years</td>\n",
       "      <td>0</td>\n",
       "      <td>311000</td>\n",
       "      <td>0.00</td>\n",
       "      <td>Albania1987</td>\n",
       "      <td>NaN</td>\n",
       "      <td>2,156,624,900</td>\n",
       "      <td>796</td>\n",
       "      <td>Generation X</td>\n",
       "    </tr>\n",
       "    <tr>\n",
       "      <th>10</th>\n",
       "      <td>Albania</td>\n",
       "      <td>1987</td>\n",
       "      <td>female</td>\n",
       "      <td>55-74 years</td>\n",
       "      <td>0</td>\n",
       "      <td>144600</td>\n",
       "      <td>0.00</td>\n",
       "      <td>Albania1987</td>\n",
       "      <td>NaN</td>\n",
       "      <td>2,156,624,900</td>\n",
       "      <td>796</td>\n",
       "      <td>G.I. Generation</td>\n",
       "    </tr>\n",
       "    <tr>\n",
       "      <th>11</th>\n",
       "      <td>Albania</td>\n",
       "      <td>1987</td>\n",
       "      <td>male</td>\n",
       "      <td>5-14 years</td>\n",
       "      <td>0</td>\n",
       "      <td>338200</td>\n",
       "      <td>0.00</td>\n",
       "      <td>Albania1987</td>\n",
       "      <td>NaN</td>\n",
       "      <td>2,156,624,900</td>\n",
       "      <td>796</td>\n",
       "      <td>Generation X</td>\n",
       "    </tr>\n",
       "    <tr>\n",
       "      <th>12</th>\n",
       "      <td>Albania</td>\n",
       "      <td>1988</td>\n",
       "      <td>female</td>\n",
       "      <td>75+ years</td>\n",
       "      <td>2</td>\n",
       "      <td>36400</td>\n",
       "      <td>5.49</td>\n",
       "      <td>Albania1988</td>\n",
       "      <td>NaN</td>\n",
       "      <td>2,126,000,000</td>\n",
       "      <td>769</td>\n",
       "      <td>G.I. Generation</td>\n",
       "    </tr>\n",
       "    <tr>\n",
       "      <th>13</th>\n",
       "      <td>Albania</td>\n",
       "      <td>1988</td>\n",
       "      <td>male</td>\n",
       "      <td>15-24 years</td>\n",
       "      <td>17</td>\n",
       "      <td>319200</td>\n",
       "      <td>5.33</td>\n",
       "      <td>Albania1988</td>\n",
       "      <td>NaN</td>\n",
       "      <td>2,126,000,000</td>\n",
       "      <td>769</td>\n",
       "      <td>Generation X</td>\n",
       "    </tr>\n",
       "    <tr>\n",
       "      <th>14</th>\n",
       "      <td>Albania</td>\n",
       "      <td>1988</td>\n",
       "      <td>male</td>\n",
       "      <td>75+ years</td>\n",
       "      <td>1</td>\n",
       "      <td>22300</td>\n",
       "      <td>4.48</td>\n",
       "      <td>Albania1988</td>\n",
       "      <td>NaN</td>\n",
       "      <td>2,126,000,000</td>\n",
       "      <td>769</td>\n",
       "      <td>G.I. Generation</td>\n",
       "    </tr>\n",
       "    <tr>\n",
       "      <th>15</th>\n",
       "      <td>Albania</td>\n",
       "      <td>1988</td>\n",
       "      <td>male</td>\n",
       "      <td>35-54 years</td>\n",
       "      <td>14</td>\n",
       "      <td>314100</td>\n",
       "      <td>4.46</td>\n",
       "      <td>Albania1988</td>\n",
       "      <td>NaN</td>\n",
       "      <td>2,126,000,000</td>\n",
       "      <td>769</td>\n",
       "      <td>Silent</td>\n",
       "    </tr>\n",
       "    <tr>\n",
       "      <th>16</th>\n",
       "      <td>Albania</td>\n",
       "      <td>1988</td>\n",
       "      <td>male</td>\n",
       "      <td>55-74 years</td>\n",
       "      <td>4</td>\n",
       "      <td>140200</td>\n",
       "      <td>2.85</td>\n",
       "      <td>Albania1988</td>\n",
       "      <td>NaN</td>\n",
       "      <td>2,126,000,000</td>\n",
       "      <td>769</td>\n",
       "      <td>G.I. Generation</td>\n",
       "    </tr>\n",
       "    <tr>\n",
       "      <th>17</th>\n",
       "      <td>Albania</td>\n",
       "      <td>1988</td>\n",
       "      <td>female</td>\n",
       "      <td>15-24 years</td>\n",
       "      <td>8</td>\n",
       "      <td>295600</td>\n",
       "      <td>2.71</td>\n",
       "      <td>Albania1988</td>\n",
       "      <td>NaN</td>\n",
       "      <td>2,126,000,000</td>\n",
       "      <td>769</td>\n",
       "      <td>Generation X</td>\n",
       "    </tr>\n",
       "    <tr>\n",
       "      <th>18</th>\n",
       "      <td>Albania</td>\n",
       "      <td>1988</td>\n",
       "      <td>female</td>\n",
       "      <td>55-74 years</td>\n",
       "      <td>3</td>\n",
       "      <td>147500</td>\n",
       "      <td>2.03</td>\n",
       "      <td>Albania1988</td>\n",
       "      <td>NaN</td>\n",
       "      <td>2,126,000,000</td>\n",
       "      <td>769</td>\n",
       "      <td>G.I. Generation</td>\n",
       "    </tr>\n",
       "    <tr>\n",
       "      <th>19</th>\n",
       "      <td>Albania</td>\n",
       "      <td>1988</td>\n",
       "      <td>female</td>\n",
       "      <td>25-34 years</td>\n",
       "      <td>5</td>\n",
       "      <td>262400</td>\n",
       "      <td>1.91</td>\n",
       "      <td>Albania1988</td>\n",
       "      <td>NaN</td>\n",
       "      <td>2,126,000,000</td>\n",
       "      <td>769</td>\n",
       "      <td>Boomers</td>\n",
       "    </tr>\n",
       "    <tr>\n",
       "      <th>20</th>\n",
       "      <td>Albania</td>\n",
       "      <td>1988</td>\n",
       "      <td>male</td>\n",
       "      <td>25-34 years</td>\n",
       "      <td>5</td>\n",
       "      <td>279900</td>\n",
       "      <td>1.79</td>\n",
       "      <td>Albania1988</td>\n",
       "      <td>NaN</td>\n",
       "      <td>2,126,000,000</td>\n",
       "      <td>769</td>\n",
       "      <td>Boomers</td>\n",
       "    </tr>\n",
       "    <tr>\n",
       "      <th>21</th>\n",
       "      <td>Albania</td>\n",
       "      <td>1988</td>\n",
       "      <td>female</td>\n",
       "      <td>35-54 years</td>\n",
       "      <td>4</td>\n",
       "      <td>284500</td>\n",
       "      <td>1.41</td>\n",
       "      <td>Albania1988</td>\n",
       "      <td>NaN</td>\n",
       "      <td>2,126,000,000</td>\n",
       "      <td>769</td>\n",
       "      <td>Silent</td>\n",
       "    </tr>\n",
       "    <tr>\n",
       "      <th>22</th>\n",
       "      <td>Albania</td>\n",
       "      <td>1988</td>\n",
       "      <td>female</td>\n",
       "      <td>5-14 years</td>\n",
       "      <td>0</td>\n",
       "      <td>317200</td>\n",
       "      <td>0.00</td>\n",
       "      <td>Albania1988</td>\n",
       "      <td>NaN</td>\n",
       "      <td>2,126,000,000</td>\n",
       "      <td>769</td>\n",
       "      <td>Generation X</td>\n",
       "    </tr>\n",
       "    <tr>\n",
       "      <th>23</th>\n",
       "      <td>Albania</td>\n",
       "      <td>1988</td>\n",
       "      <td>male</td>\n",
       "      <td>5-14 years</td>\n",
       "      <td>0</td>\n",
       "      <td>345000</td>\n",
       "      <td>0.00</td>\n",
       "      <td>Albania1988</td>\n",
       "      <td>NaN</td>\n",
       "      <td>2,126,000,000</td>\n",
       "      <td>769</td>\n",
       "      <td>Generation X</td>\n",
       "    </tr>\n",
       "    <tr>\n",
       "      <th>24</th>\n",
       "      <td>Albania</td>\n",
       "      <td>1989</td>\n",
       "      <td>male</td>\n",
       "      <td>75+ years</td>\n",
       "      <td>2</td>\n",
       "      <td>22500</td>\n",
       "      <td>8.89</td>\n",
       "      <td>Albania1989</td>\n",
       "      <td>NaN</td>\n",
       "      <td>2,335,124,988</td>\n",
       "      <td>833</td>\n",
       "      <td>G.I. Generation</td>\n",
       "    </tr>\n",
       "    <tr>\n",
       "      <th>25</th>\n",
       "      <td>Albania</td>\n",
       "      <td>1989</td>\n",
       "      <td>male</td>\n",
       "      <td>25-34 years</td>\n",
       "      <td>18</td>\n",
       "      <td>283600</td>\n",
       "      <td>6.35</td>\n",
       "      <td>Albania1989</td>\n",
       "      <td>NaN</td>\n",
       "      <td>2,335,124,988</td>\n",
       "      <td>833</td>\n",
       "      <td>Boomers</td>\n",
       "    </tr>\n",
       "    <tr>\n",
       "      <th>26</th>\n",
       "      <td>Albania</td>\n",
       "      <td>1989</td>\n",
       "      <td>male</td>\n",
       "      <td>35-54 years</td>\n",
       "      <td>15</td>\n",
       "      <td>318400</td>\n",
       "      <td>4.71</td>\n",
       "      <td>Albania1989</td>\n",
       "      <td>NaN</td>\n",
       "      <td>2,335,124,988</td>\n",
       "      <td>833</td>\n",
       "      <td>Silent</td>\n",
       "    </tr>\n",
       "    <tr>\n",
       "      <th>27</th>\n",
       "      <td>Albania</td>\n",
       "      <td>1989</td>\n",
       "      <td>male</td>\n",
       "      <td>55-74 years</td>\n",
       "      <td>6</td>\n",
       "      <td>142100</td>\n",
       "      <td>4.22</td>\n",
       "      <td>Albania1989</td>\n",
       "      <td>NaN</td>\n",
       "      <td>2,335,124,988</td>\n",
       "      <td>833</td>\n",
       "      <td>G.I. Generation</td>\n",
       "    </tr>\n",
       "    <tr>\n",
       "      <th>28</th>\n",
       "      <td>Albania</td>\n",
       "      <td>1989</td>\n",
       "      <td>male</td>\n",
       "      <td>15-24 years</td>\n",
       "      <td>12</td>\n",
       "      <td>323500</td>\n",
       "      <td>3.71</td>\n",
       "      <td>Albania1989</td>\n",
       "      <td>NaN</td>\n",
       "      <td>2,335,124,988</td>\n",
       "      <td>833</td>\n",
       "      <td>Generation X</td>\n",
       "    </tr>\n",
       "    <tr>\n",
       "      <th>29</th>\n",
       "      <td>Albania</td>\n",
       "      <td>1989</td>\n",
       "      <td>female</td>\n",
       "      <td>35-54 years</td>\n",
       "      <td>7</td>\n",
       "      <td>288600</td>\n",
       "      <td>2.43</td>\n",
       "      <td>Albania1989</td>\n",
       "      <td>NaN</td>\n",
       "      <td>2,335,124,988</td>\n",
       "      <td>833</td>\n",
       "      <td>Silent</td>\n",
       "    </tr>\n",
       "    <tr>\n",
       "      <th>...</th>\n",
       "      <td>...</td>\n",
       "      <td>...</td>\n",
       "      <td>...</td>\n",
       "      <td>...</td>\n",
       "      <td>...</td>\n",
       "      <td>...</td>\n",
       "      <td>...</td>\n",
       "      <td>...</td>\n",
       "      <td>...</td>\n",
       "      <td>...</td>\n",
       "      <td>...</td>\n",
       "      <td>...</td>\n",
       "    </tr>\n",
       "    <tr>\n",
       "      <th>27790</th>\n",
       "      <td>Uzbekistan</td>\n",
       "      <td>2012</td>\n",
       "      <td>female</td>\n",
       "      <td>25-34 years</td>\n",
       "      <td>148</td>\n",
       "      <td>2556673</td>\n",
       "      <td>5.79</td>\n",
       "      <td>Uzbekistan2012</td>\n",
       "      <td>0.668</td>\n",
       "      <td>51,821,573,338</td>\n",
       "      <td>1964</td>\n",
       "      <td>Millenials</td>\n",
       "    </tr>\n",
       "    <tr>\n",
       "      <th>27791</th>\n",
       "      <td>Uzbekistan</td>\n",
       "      <td>2012</td>\n",
       "      <td>female</td>\n",
       "      <td>35-54 years</td>\n",
       "      <td>89</td>\n",
       "      <td>3474788</td>\n",
       "      <td>2.56</td>\n",
       "      <td>Uzbekistan2012</td>\n",
       "      <td>0.668</td>\n",
       "      <td>51,821,573,338</td>\n",
       "      <td>1964</td>\n",
       "      <td>Generation X</td>\n",
       "    </tr>\n",
       "    <tr>\n",
       "      <th>27792</th>\n",
       "      <td>Uzbekistan</td>\n",
       "      <td>2012</td>\n",
       "      <td>male</td>\n",
       "      <td>5-14 years</td>\n",
       "      <td>67</td>\n",
       "      <td>2701361</td>\n",
       "      <td>2.48</td>\n",
       "      <td>Uzbekistan2012</td>\n",
       "      <td>0.668</td>\n",
       "      <td>51,821,573,338</td>\n",
       "      <td>1964</td>\n",
       "      <td>Generation Z</td>\n",
       "    </tr>\n",
       "    <tr>\n",
       "      <th>27793</th>\n",
       "      <td>Uzbekistan</td>\n",
       "      <td>2012</td>\n",
       "      <td>female</td>\n",
       "      <td>55-74 years</td>\n",
       "      <td>25</td>\n",
       "      <td>1283060</td>\n",
       "      <td>1.95</td>\n",
       "      <td>Uzbekistan2012</td>\n",
       "      <td>0.668</td>\n",
       "      <td>51,821,573,338</td>\n",
       "      <td>1964</td>\n",
       "      <td>Boomers</td>\n",
       "    </tr>\n",
       "    <tr>\n",
       "      <th>27794</th>\n",
       "      <td>Uzbekistan</td>\n",
       "      <td>2012</td>\n",
       "      <td>female</td>\n",
       "      <td>75+ years</td>\n",
       "      <td>4</td>\n",
       "      <td>338557</td>\n",
       "      <td>1.18</td>\n",
       "      <td>Uzbekistan2012</td>\n",
       "      <td>0.668</td>\n",
       "      <td>51,821,573,338</td>\n",
       "      <td>1964</td>\n",
       "      <td>Silent</td>\n",
       "    </tr>\n",
       "    <tr>\n",
       "      <th>27795</th>\n",
       "      <td>Uzbekistan</td>\n",
       "      <td>2012</td>\n",
       "      <td>female</td>\n",
       "      <td>5-14 years</td>\n",
       "      <td>16</td>\n",
       "      <td>2578408</td>\n",
       "      <td>0.62</td>\n",
       "      <td>Uzbekistan2012</td>\n",
       "      <td>0.668</td>\n",
       "      <td>51,821,573,338</td>\n",
       "      <td>1964</td>\n",
       "      <td>Generation Z</td>\n",
       "    </tr>\n",
       "    <tr>\n",
       "      <th>27796</th>\n",
       "      <td>Uzbekistan</td>\n",
       "      <td>2013</td>\n",
       "      <td>male</td>\n",
       "      <td>35-54 years</td>\n",
       "      <td>481</td>\n",
       "      <td>3346411</td>\n",
       "      <td>14.37</td>\n",
       "      <td>Uzbekistan2013</td>\n",
       "      <td>0.672</td>\n",
       "      <td>57,690,453,461</td>\n",
       "      <td>2150</td>\n",
       "      <td>Generation X</td>\n",
       "    </tr>\n",
       "    <tr>\n",
       "      <th>27797</th>\n",
       "      <td>Uzbekistan</td>\n",
       "      <td>2013</td>\n",
       "      <td>male</td>\n",
       "      <td>25-34 years</td>\n",
       "      <td>328</td>\n",
       "      <td>2644648</td>\n",
       "      <td>12.40</td>\n",
       "      <td>Uzbekistan2013</td>\n",
       "      <td>0.672</td>\n",
       "      <td>57,690,453,461</td>\n",
       "      <td>2150</td>\n",
       "      <td>Millenials</td>\n",
       "    </tr>\n",
       "    <tr>\n",
       "      <th>27798</th>\n",
       "      <td>Uzbekistan</td>\n",
       "      <td>2013</td>\n",
       "      <td>female</td>\n",
       "      <td>15-24 years</td>\n",
       "      <td>323</td>\n",
       "      <td>3039740</td>\n",
       "      <td>10.63</td>\n",
       "      <td>Uzbekistan2013</td>\n",
       "      <td>0.672</td>\n",
       "      <td>57,690,453,461</td>\n",
       "      <td>2150</td>\n",
       "      <td>Millenials</td>\n",
       "    </tr>\n",
       "    <tr>\n",
       "      <th>27799</th>\n",
       "      <td>Uzbekistan</td>\n",
       "      <td>2013</td>\n",
       "      <td>male</td>\n",
       "      <td>15-24 years</td>\n",
       "      <td>320</td>\n",
       "      <td>3171202</td>\n",
       "      <td>10.09</td>\n",
       "      <td>Uzbekistan2013</td>\n",
       "      <td>0.672</td>\n",
       "      <td>57,690,453,461</td>\n",
       "      <td>2150</td>\n",
       "      <td>Millenials</td>\n",
       "    </tr>\n",
       "    <tr>\n",
       "      <th>27800</th>\n",
       "      <td>Uzbekistan</td>\n",
       "      <td>2013</td>\n",
       "      <td>male</td>\n",
       "      <td>55-74 years</td>\n",
       "      <td>119</td>\n",
       "      <td>1202790</td>\n",
       "      <td>9.89</td>\n",
       "      <td>Uzbekistan2013</td>\n",
       "      <td>0.672</td>\n",
       "      <td>57,690,453,461</td>\n",
       "      <td>2150</td>\n",
       "      <td>Boomers</td>\n",
       "    </tr>\n",
       "    <tr>\n",
       "      <th>27801</th>\n",
       "      <td>Uzbekistan</td>\n",
       "      <td>2013</td>\n",
       "      <td>male</td>\n",
       "      <td>75+ years</td>\n",
       "      <td>13</td>\n",
       "      <td>221002</td>\n",
       "      <td>5.88</td>\n",
       "      <td>Uzbekistan2013</td>\n",
       "      <td>0.672</td>\n",
       "      <td>57,690,453,461</td>\n",
       "      <td>2150</td>\n",
       "      <td>Silent</td>\n",
       "    </tr>\n",
       "    <tr>\n",
       "      <th>27802</th>\n",
       "      <td>Uzbekistan</td>\n",
       "      <td>2013</td>\n",
       "      <td>female</td>\n",
       "      <td>25-34 years</td>\n",
       "      <td>146</td>\n",
       "      <td>2647820</td>\n",
       "      <td>5.51</td>\n",
       "      <td>Uzbekistan2013</td>\n",
       "      <td>0.672</td>\n",
       "      <td>57,690,453,461</td>\n",
       "      <td>2150</td>\n",
       "      <td>Millenials</td>\n",
       "    </tr>\n",
       "    <tr>\n",
       "      <th>27803</th>\n",
       "      <td>Uzbekistan</td>\n",
       "      <td>2013</td>\n",
       "      <td>female</td>\n",
       "      <td>35-54 years</td>\n",
       "      <td>99</td>\n",
       "      <td>3547895</td>\n",
       "      <td>2.79</td>\n",
       "      <td>Uzbekistan2013</td>\n",
       "      <td>0.672</td>\n",
       "      <td>57,690,453,461</td>\n",
       "      <td>2150</td>\n",
       "      <td>Generation X</td>\n",
       "    </tr>\n",
       "    <tr>\n",
       "      <th>27804</th>\n",
       "      <td>Uzbekistan</td>\n",
       "      <td>2013</td>\n",
       "      <td>female</td>\n",
       "      <td>75+ years</td>\n",
       "      <td>8</td>\n",
       "      <td>345180</td>\n",
       "      <td>2.32</td>\n",
       "      <td>Uzbekistan2013</td>\n",
       "      <td>0.672</td>\n",
       "      <td>57,690,453,461</td>\n",
       "      <td>2150</td>\n",
       "      <td>Silent</td>\n",
       "    </tr>\n",
       "    <tr>\n",
       "      <th>27805</th>\n",
       "      <td>Uzbekistan</td>\n",
       "      <td>2013</td>\n",
       "      <td>male</td>\n",
       "      <td>5-14 years</td>\n",
       "      <td>61</td>\n",
       "      <td>2720938</td>\n",
       "      <td>2.24</td>\n",
       "      <td>Uzbekistan2013</td>\n",
       "      <td>0.672</td>\n",
       "      <td>57,690,453,461</td>\n",
       "      <td>2150</td>\n",
       "      <td>Generation Z</td>\n",
       "    </tr>\n",
       "    <tr>\n",
       "      <th>27806</th>\n",
       "      <td>Uzbekistan</td>\n",
       "      <td>2013</td>\n",
       "      <td>female</td>\n",
       "      <td>55-74 years</td>\n",
       "      <td>21</td>\n",
       "      <td>1356298</td>\n",
       "      <td>1.55</td>\n",
       "      <td>Uzbekistan2013</td>\n",
       "      <td>0.672</td>\n",
       "      <td>57,690,453,461</td>\n",
       "      <td>2150</td>\n",
       "      <td>Boomers</td>\n",
       "    </tr>\n",
       "    <tr>\n",
       "      <th>27807</th>\n",
       "      <td>Uzbekistan</td>\n",
       "      <td>2013</td>\n",
       "      <td>female</td>\n",
       "      <td>5-14 years</td>\n",
       "      <td>31</td>\n",
       "      <td>2595000</td>\n",
       "      <td>1.19</td>\n",
       "      <td>Uzbekistan2013</td>\n",
       "      <td>0.672</td>\n",
       "      <td>57,690,453,461</td>\n",
       "      <td>2150</td>\n",
       "      <td>Generation Z</td>\n",
       "    </tr>\n",
       "    <tr>\n",
       "      <th>27808</th>\n",
       "      <td>Uzbekistan</td>\n",
       "      <td>2014</td>\n",
       "      <td>male</td>\n",
       "      <td>35-54 years</td>\n",
       "      <td>519</td>\n",
       "      <td>3421300</td>\n",
       "      <td>15.17</td>\n",
       "      <td>Uzbekistan2014</td>\n",
       "      <td>0.675</td>\n",
       "      <td>63,067,077,179</td>\n",
       "      <td>2309</td>\n",
       "      <td>Generation X</td>\n",
       "    </tr>\n",
       "    <tr>\n",
       "      <th>27809</th>\n",
       "      <td>Uzbekistan</td>\n",
       "      <td>2014</td>\n",
       "      <td>male</td>\n",
       "      <td>25-34 years</td>\n",
       "      <td>318</td>\n",
       "      <td>2739150</td>\n",
       "      <td>11.61</td>\n",
       "      <td>Uzbekistan2014</td>\n",
       "      <td>0.675</td>\n",
       "      <td>63,067,077,179</td>\n",
       "      <td>2309</td>\n",
       "      <td>Millenials</td>\n",
       "    </tr>\n",
       "    <tr>\n",
       "      <th>27810</th>\n",
       "      <td>Uzbekistan</td>\n",
       "      <td>2014</td>\n",
       "      <td>female</td>\n",
       "      <td>15-24 years</td>\n",
       "      <td>347</td>\n",
       "      <td>2992817</td>\n",
       "      <td>11.59</td>\n",
       "      <td>Uzbekistan2014</td>\n",
       "      <td>0.675</td>\n",
       "      <td>63,067,077,179</td>\n",
       "      <td>2309</td>\n",
       "      <td>Millenials</td>\n",
       "    </tr>\n",
       "    <tr>\n",
       "      <th>27811</th>\n",
       "      <td>Uzbekistan</td>\n",
       "      <td>2014</td>\n",
       "      <td>male</td>\n",
       "      <td>55-74 years</td>\n",
       "      <td>144</td>\n",
       "      <td>1271111</td>\n",
       "      <td>11.33</td>\n",
       "      <td>Uzbekistan2014</td>\n",
       "      <td>0.675</td>\n",
       "      <td>63,067,077,179</td>\n",
       "      <td>2309</td>\n",
       "      <td>Boomers</td>\n",
       "    </tr>\n",
       "    <tr>\n",
       "      <th>27812</th>\n",
       "      <td>Uzbekistan</td>\n",
       "      <td>2014</td>\n",
       "      <td>male</td>\n",
       "      <td>15-24 years</td>\n",
       "      <td>347</td>\n",
       "      <td>3126905</td>\n",
       "      <td>11.10</td>\n",
       "      <td>Uzbekistan2014</td>\n",
       "      <td>0.675</td>\n",
       "      <td>63,067,077,179</td>\n",
       "      <td>2309</td>\n",
       "      <td>Millenials</td>\n",
       "    </tr>\n",
       "    <tr>\n",
       "      <th>27813</th>\n",
       "      <td>Uzbekistan</td>\n",
       "      <td>2014</td>\n",
       "      <td>male</td>\n",
       "      <td>75+ years</td>\n",
       "      <td>17</td>\n",
       "      <td>224995</td>\n",
       "      <td>7.56</td>\n",
       "      <td>Uzbekistan2014</td>\n",
       "      <td>0.675</td>\n",
       "      <td>63,067,077,179</td>\n",
       "      <td>2309</td>\n",
       "      <td>Silent</td>\n",
       "    </tr>\n",
       "    <tr>\n",
       "      <th>27814</th>\n",
       "      <td>Uzbekistan</td>\n",
       "      <td>2014</td>\n",
       "      <td>female</td>\n",
       "      <td>25-34 years</td>\n",
       "      <td>162</td>\n",
       "      <td>2735238</td>\n",
       "      <td>5.92</td>\n",
       "      <td>Uzbekistan2014</td>\n",
       "      <td>0.675</td>\n",
       "      <td>63,067,077,179</td>\n",
       "      <td>2309</td>\n",
       "      <td>Millenials</td>\n",
       "    </tr>\n",
       "    <tr>\n",
       "      <th>27815</th>\n",
       "      <td>Uzbekistan</td>\n",
       "      <td>2014</td>\n",
       "      <td>female</td>\n",
       "      <td>35-54 years</td>\n",
       "      <td>107</td>\n",
       "      <td>3620833</td>\n",
       "      <td>2.96</td>\n",
       "      <td>Uzbekistan2014</td>\n",
       "      <td>0.675</td>\n",
       "      <td>63,067,077,179</td>\n",
       "      <td>2309</td>\n",
       "      <td>Generation X</td>\n",
       "    </tr>\n",
       "    <tr>\n",
       "      <th>27816</th>\n",
       "      <td>Uzbekistan</td>\n",
       "      <td>2014</td>\n",
       "      <td>female</td>\n",
       "      <td>75+ years</td>\n",
       "      <td>9</td>\n",
       "      <td>348465</td>\n",
       "      <td>2.58</td>\n",
       "      <td>Uzbekistan2014</td>\n",
       "      <td>0.675</td>\n",
       "      <td>63,067,077,179</td>\n",
       "      <td>2309</td>\n",
       "      <td>Silent</td>\n",
       "    </tr>\n",
       "    <tr>\n",
       "      <th>27817</th>\n",
       "      <td>Uzbekistan</td>\n",
       "      <td>2014</td>\n",
       "      <td>male</td>\n",
       "      <td>5-14 years</td>\n",
       "      <td>60</td>\n",
       "      <td>2762158</td>\n",
       "      <td>2.17</td>\n",
       "      <td>Uzbekistan2014</td>\n",
       "      <td>0.675</td>\n",
       "      <td>63,067,077,179</td>\n",
       "      <td>2309</td>\n",
       "      <td>Generation Z</td>\n",
       "    </tr>\n",
       "    <tr>\n",
       "      <th>27818</th>\n",
       "      <td>Uzbekistan</td>\n",
       "      <td>2014</td>\n",
       "      <td>female</td>\n",
       "      <td>5-14 years</td>\n",
       "      <td>44</td>\n",
       "      <td>2631600</td>\n",
       "      <td>1.67</td>\n",
       "      <td>Uzbekistan2014</td>\n",
       "      <td>0.675</td>\n",
       "      <td>63,067,077,179</td>\n",
       "      <td>2309</td>\n",
       "      <td>Generation Z</td>\n",
       "    </tr>\n",
       "    <tr>\n",
       "      <th>27819</th>\n",
       "      <td>Uzbekistan</td>\n",
       "      <td>2014</td>\n",
       "      <td>female</td>\n",
       "      <td>55-74 years</td>\n",
       "      <td>21</td>\n",
       "      <td>1438935</td>\n",
       "      <td>1.46</td>\n",
       "      <td>Uzbekistan2014</td>\n",
       "      <td>0.675</td>\n",
       "      <td>63,067,077,179</td>\n",
       "      <td>2309</td>\n",
       "      <td>Boomers</td>\n",
       "    </tr>\n",
       "  </tbody>\n",
       "</table>\n",
       "<p>27820 rows × 12 columns</p>\n",
       "</div>"
      ],
      "text/plain": [
       "          country  year     sex          age  suicides_no  population  \\\n",
       "0         Albania  1987    male  15-24 years           21      312900   \n",
       "1         Albania  1987    male  35-54 years           16      308000   \n",
       "2         Albania  1987  female  15-24 years           14      289700   \n",
       "3         Albania  1987    male    75+ years            1       21800   \n",
       "4         Albania  1987    male  25-34 years            9      274300   \n",
       "5         Albania  1987  female    75+ years            1       35600   \n",
       "6         Albania  1987  female  35-54 years            6      278800   \n",
       "7         Albania  1987  female  25-34 years            4      257200   \n",
       "8         Albania  1987    male  55-74 years            1      137500   \n",
       "9         Albania  1987  female   5-14 years            0      311000   \n",
       "10        Albania  1987  female  55-74 years            0      144600   \n",
       "11        Albania  1987    male   5-14 years            0      338200   \n",
       "12        Albania  1988  female    75+ years            2       36400   \n",
       "13        Albania  1988    male  15-24 years           17      319200   \n",
       "14        Albania  1988    male    75+ years            1       22300   \n",
       "15        Albania  1988    male  35-54 years           14      314100   \n",
       "16        Albania  1988    male  55-74 years            4      140200   \n",
       "17        Albania  1988  female  15-24 years            8      295600   \n",
       "18        Albania  1988  female  55-74 years            3      147500   \n",
       "19        Albania  1988  female  25-34 years            5      262400   \n",
       "20        Albania  1988    male  25-34 years            5      279900   \n",
       "21        Albania  1988  female  35-54 years            4      284500   \n",
       "22        Albania  1988  female   5-14 years            0      317200   \n",
       "23        Albania  1988    male   5-14 years            0      345000   \n",
       "24        Albania  1989    male    75+ years            2       22500   \n",
       "25        Albania  1989    male  25-34 years           18      283600   \n",
       "26        Albania  1989    male  35-54 years           15      318400   \n",
       "27        Albania  1989    male  55-74 years            6      142100   \n",
       "28        Albania  1989    male  15-24 years           12      323500   \n",
       "29        Albania  1989  female  35-54 years            7      288600   \n",
       "...           ...   ...     ...          ...          ...         ...   \n",
       "27790  Uzbekistan  2012  female  25-34 years          148     2556673   \n",
       "27791  Uzbekistan  2012  female  35-54 years           89     3474788   \n",
       "27792  Uzbekistan  2012    male   5-14 years           67     2701361   \n",
       "27793  Uzbekistan  2012  female  55-74 years           25     1283060   \n",
       "27794  Uzbekistan  2012  female    75+ years            4      338557   \n",
       "27795  Uzbekistan  2012  female   5-14 years           16     2578408   \n",
       "27796  Uzbekistan  2013    male  35-54 years          481     3346411   \n",
       "27797  Uzbekistan  2013    male  25-34 years          328     2644648   \n",
       "27798  Uzbekistan  2013  female  15-24 years          323     3039740   \n",
       "27799  Uzbekistan  2013    male  15-24 years          320     3171202   \n",
       "27800  Uzbekistan  2013    male  55-74 years          119     1202790   \n",
       "27801  Uzbekistan  2013    male    75+ years           13      221002   \n",
       "27802  Uzbekistan  2013  female  25-34 years          146     2647820   \n",
       "27803  Uzbekistan  2013  female  35-54 years           99     3547895   \n",
       "27804  Uzbekistan  2013  female    75+ years            8      345180   \n",
       "27805  Uzbekistan  2013    male   5-14 years           61     2720938   \n",
       "27806  Uzbekistan  2013  female  55-74 years           21     1356298   \n",
       "27807  Uzbekistan  2013  female   5-14 years           31     2595000   \n",
       "27808  Uzbekistan  2014    male  35-54 years          519     3421300   \n",
       "27809  Uzbekistan  2014    male  25-34 years          318     2739150   \n",
       "27810  Uzbekistan  2014  female  15-24 years          347     2992817   \n",
       "27811  Uzbekistan  2014    male  55-74 years          144     1271111   \n",
       "27812  Uzbekistan  2014    male  15-24 years          347     3126905   \n",
       "27813  Uzbekistan  2014    male    75+ years           17      224995   \n",
       "27814  Uzbekistan  2014  female  25-34 years          162     2735238   \n",
       "27815  Uzbekistan  2014  female  35-54 years          107     3620833   \n",
       "27816  Uzbekistan  2014  female    75+ years            9      348465   \n",
       "27817  Uzbekistan  2014    male   5-14 years           60     2762158   \n",
       "27818  Uzbekistan  2014  female   5-14 years           44     2631600   \n",
       "27819  Uzbekistan  2014  female  55-74 years           21     1438935   \n",
       "\n",
       "       suicides/100k pop    country-year  HDI for year gdp_for_year ($)  \\\n",
       "0                   6.71     Albania1987           NaN    2,156,624,900   \n",
       "1                   5.19     Albania1987           NaN    2,156,624,900   \n",
       "2                   4.83     Albania1987           NaN    2,156,624,900   \n",
       "3                   4.59     Albania1987           NaN    2,156,624,900   \n",
       "4                   3.28     Albania1987           NaN    2,156,624,900   \n",
       "5                   2.81     Albania1987           NaN    2,156,624,900   \n",
       "6                   2.15     Albania1987           NaN    2,156,624,900   \n",
       "7                   1.56     Albania1987           NaN    2,156,624,900   \n",
       "8                   0.73     Albania1987           NaN    2,156,624,900   \n",
       "9                   0.00     Albania1987           NaN    2,156,624,900   \n",
       "10                  0.00     Albania1987           NaN    2,156,624,900   \n",
       "11                  0.00     Albania1987           NaN    2,156,624,900   \n",
       "12                  5.49     Albania1988           NaN    2,126,000,000   \n",
       "13                  5.33     Albania1988           NaN    2,126,000,000   \n",
       "14                  4.48     Albania1988           NaN    2,126,000,000   \n",
       "15                  4.46     Albania1988           NaN    2,126,000,000   \n",
       "16                  2.85     Albania1988           NaN    2,126,000,000   \n",
       "17                  2.71     Albania1988           NaN    2,126,000,000   \n",
       "18                  2.03     Albania1988           NaN    2,126,000,000   \n",
       "19                  1.91     Albania1988           NaN    2,126,000,000   \n",
       "20                  1.79     Albania1988           NaN    2,126,000,000   \n",
       "21                  1.41     Albania1988           NaN    2,126,000,000   \n",
       "22                  0.00     Albania1988           NaN    2,126,000,000   \n",
       "23                  0.00     Albania1988           NaN    2,126,000,000   \n",
       "24                  8.89     Albania1989           NaN    2,335,124,988   \n",
       "25                  6.35     Albania1989           NaN    2,335,124,988   \n",
       "26                  4.71     Albania1989           NaN    2,335,124,988   \n",
       "27                  4.22     Albania1989           NaN    2,335,124,988   \n",
       "28                  3.71     Albania1989           NaN    2,335,124,988   \n",
       "29                  2.43     Albania1989           NaN    2,335,124,988   \n",
       "...                  ...             ...           ...              ...   \n",
       "27790               5.79  Uzbekistan2012         0.668   51,821,573,338   \n",
       "27791               2.56  Uzbekistan2012         0.668   51,821,573,338   \n",
       "27792               2.48  Uzbekistan2012         0.668   51,821,573,338   \n",
       "27793               1.95  Uzbekistan2012         0.668   51,821,573,338   \n",
       "27794               1.18  Uzbekistan2012         0.668   51,821,573,338   \n",
       "27795               0.62  Uzbekistan2012         0.668   51,821,573,338   \n",
       "27796              14.37  Uzbekistan2013         0.672   57,690,453,461   \n",
       "27797              12.40  Uzbekistan2013         0.672   57,690,453,461   \n",
       "27798              10.63  Uzbekistan2013         0.672   57,690,453,461   \n",
       "27799              10.09  Uzbekistan2013         0.672   57,690,453,461   \n",
       "27800               9.89  Uzbekistan2013         0.672   57,690,453,461   \n",
       "27801               5.88  Uzbekistan2013         0.672   57,690,453,461   \n",
       "27802               5.51  Uzbekistan2013         0.672   57,690,453,461   \n",
       "27803               2.79  Uzbekistan2013         0.672   57,690,453,461   \n",
       "27804               2.32  Uzbekistan2013         0.672   57,690,453,461   \n",
       "27805               2.24  Uzbekistan2013         0.672   57,690,453,461   \n",
       "27806               1.55  Uzbekistan2013         0.672   57,690,453,461   \n",
       "27807               1.19  Uzbekistan2013         0.672   57,690,453,461   \n",
       "27808              15.17  Uzbekistan2014         0.675   63,067,077,179   \n",
       "27809              11.61  Uzbekistan2014         0.675   63,067,077,179   \n",
       "27810              11.59  Uzbekistan2014         0.675   63,067,077,179   \n",
       "27811              11.33  Uzbekistan2014         0.675   63,067,077,179   \n",
       "27812              11.10  Uzbekistan2014         0.675   63,067,077,179   \n",
       "27813               7.56  Uzbekistan2014         0.675   63,067,077,179   \n",
       "27814               5.92  Uzbekistan2014         0.675   63,067,077,179   \n",
       "27815               2.96  Uzbekistan2014         0.675   63,067,077,179   \n",
       "27816               2.58  Uzbekistan2014         0.675   63,067,077,179   \n",
       "27817               2.17  Uzbekistan2014         0.675   63,067,077,179   \n",
       "27818               1.67  Uzbekistan2014         0.675   63,067,077,179   \n",
       "27819               1.46  Uzbekistan2014         0.675   63,067,077,179   \n",
       "\n",
       "       gdp_per_capita ($)       generation  \n",
       "0                     796     Generation X  \n",
       "1                     796           Silent  \n",
       "2                     796     Generation X  \n",
       "3                     796  G.I. Generation  \n",
       "4                     796          Boomers  \n",
       "5                     796  G.I. Generation  \n",
       "6                     796           Silent  \n",
       "7                     796          Boomers  \n",
       "8                     796  G.I. Generation  \n",
       "9                     796     Generation X  \n",
       "10                    796  G.I. Generation  \n",
       "11                    796     Generation X  \n",
       "12                    769  G.I. Generation  \n",
       "13                    769     Generation X  \n",
       "14                    769  G.I. Generation  \n",
       "15                    769           Silent  \n",
       "16                    769  G.I. Generation  \n",
       "17                    769     Generation X  \n",
       "18                    769  G.I. Generation  \n",
       "19                    769          Boomers  \n",
       "20                    769          Boomers  \n",
       "21                    769           Silent  \n",
       "22                    769     Generation X  \n",
       "23                    769     Generation X  \n",
       "24                    833  G.I. Generation  \n",
       "25                    833          Boomers  \n",
       "26                    833           Silent  \n",
       "27                    833  G.I. Generation  \n",
       "28                    833     Generation X  \n",
       "29                    833           Silent  \n",
       "...                   ...              ...  \n",
       "27790                1964       Millenials  \n",
       "27791                1964     Generation X  \n",
       "27792                1964     Generation Z  \n",
       "27793                1964          Boomers  \n",
       "27794                1964           Silent  \n",
       "27795                1964     Generation Z  \n",
       "27796                2150     Generation X  \n",
       "27797                2150       Millenials  \n",
       "27798                2150       Millenials  \n",
       "27799                2150       Millenials  \n",
       "27800                2150          Boomers  \n",
       "27801                2150           Silent  \n",
       "27802                2150       Millenials  \n",
       "27803                2150     Generation X  \n",
       "27804                2150           Silent  \n",
       "27805                2150     Generation Z  \n",
       "27806                2150          Boomers  \n",
       "27807                2150     Generation Z  \n",
       "27808                2309     Generation X  \n",
       "27809                2309       Millenials  \n",
       "27810                2309       Millenials  \n",
       "27811                2309          Boomers  \n",
       "27812                2309       Millenials  \n",
       "27813                2309           Silent  \n",
       "27814                2309       Millenials  \n",
       "27815                2309     Generation X  \n",
       "27816                2309           Silent  \n",
       "27817                2309     Generation Z  \n",
       "27818                2309     Generation Z  \n",
       "27819                2309          Boomers  \n",
       "\n",
       "[27820 rows x 12 columns]"
      ]
     },
     "execution_count": 4,
     "metadata": {},
     "output_type": "execute_result"
    }
   ],
   "source": [
    "#Rename the gdp_for_year column to remove the leading space\n",
    "main_df.rename(columns={' gdp_for_year ($) ':'gdp_for_year ($)'}, inplace=True)\n",
    "main_df"
   ]
  },
  {
   "cell_type": "code",
   "execution_count": 5,
   "metadata": {},
   "outputs": [],
   "source": [
    "#Set a comparator\n",
    "comparator = np.float64(10)\n",
    "#Now iterate through the main and find relevant values\n",
    "for i, row in main_df.iterrows():\n",
    "    #Only do this if there isn't already a value for HDI\n",
    "    if(pd.isna(row['HDI for year'])):\n",
    "        value = -1\n",
    "        country = row['country']\n",
    "        year = row['year']\n",
    "        year = str(year)\n",
    "        #Get the relevant row from the supp dataframe\n",
    "        hdi_row = supp_df.loc[supp_df['Country'].str.contains(country)]\n",
    "        #Check if the year is in the columns\n",
    "        if(year in hdi_row.columns):\n",
    "            #If so, get the value\n",
    "            value = hdi_row[year]\n",
    "        #If the value was found and it wasn't -1, and the series is not empty get the first value of the series\n",
    "        if(type(value) != type(-1)):\n",
    "            if(len(value) > 0):\n",
    "                value = (value.values[0])\n",
    "                if(pd.isna(value)):\n",
    "                    value = -1\n",
    "            else:\n",
    "                value = -1\n",
    "        main_df.loc[i, 'HDI for year'] = value"
   ]
  },
  {
   "cell_type": "code",
   "execution_count": 6,
   "metadata": {},
   "outputs": [
    {
     "data": {
      "text/plain": [
       "(27820, 12)"
      ]
     },
     "execution_count": 6,
     "metadata": {},
     "output_type": "execute_result"
    }
   ],
   "source": [
    "#First get an understanding of what the data looks like\n",
    "main_df.shape"
   ]
  },
  {
   "cell_type": "code",
   "execution_count": 7,
   "metadata": {},
   "outputs": [
    {
     "data": {
      "text/plain": [
       "(27820, 12)"
      ]
     },
     "execution_count": 7,
     "metadata": {},
     "output_type": "execute_result"
    }
   ],
   "source": [
    "checked_df = main_df.dropna()\n",
    "checked_df.shape"
   ]
  },
  {
   "cell_type": "markdown",
   "metadata": {},
   "source": [
    "# Data Analysis & Results"
   ]
  },
  {
   "cell_type": "markdown",
   "metadata": {},
   "source": [
    "## Question 1: Is suicide rate growing every year? "
   ]
  },
  {
   "cell_type": "code",
   "execution_count": 8,
   "metadata": {},
   "outputs": [
    {
     "data": {
      "text/plain": [
       "<matplotlib.axes._subplots.AxesSubplot at 0x7f78778c7c88>"
      ]
     },
     "execution_count": 8,
     "metadata": {},
     "output_type": "execute_result"
    },
    {
     "data": {
      "image/png": "[encoded data removed]",
      "text/plain": [
       "<Figure size 1080x360 with 1 Axes>"
      ]
     },
     "metadata": {
      "needs_background": "light"
     },
     "output_type": "display_data"
    }
   ],
   "source": [
    "year_group = main_df.groupby('year').mean()\n",
    "year_group.plot(y='suicides/100k pop',kind=\"bar\", figsize=(15, 5), title=\"Average Suicides/100k Each Year\", color='blue')"
   ]
  },
  {
   "cell_type": "markdown",
   "metadata": {},
   "source": [
    "As we can see in the graph, we cannot conclude that the suicide rate is growing each year. We can see from the graph that there is a peak in 1995 and 2016 but there is no clear clue to show that the suicide rate is either increasing or decreasing."
   ]
  },
  {
   "cell_type": "markdown",
   "metadata": {},
   "source": [
    "## Question 2: In general, which population is more likely to commit suicide? (country, age, gender) "
   ]
  },
  {
   "cell_type": "code",
   "execution_count": 9,
   "metadata": {},
   "outputs": [
    {
     "data": {
      "text/plain": [
       "<matplotlib.axes._subplots.AxesSubplot at 0x7f7868a3efd0>"
      ]
     },
     "execution_count": 9,
     "metadata": {},
     "output_type": "execute_result"
    },
    {
     "data": {
      "image/png": "[encoded data removed]",
      "text/plain": [
       "<Figure size 1440x576 with 1 Axes>"
      ]
     },
     "metadata": {
      "needs_background": "light"
     },
     "output_type": "display_data"
    }
   ],
   "source": [
    "country_group = main_df.groupby('country').mean()\n",
    "country_group = country_group.sort_values(by=['suicides/100k pop'], ascending=False)\n",
    "country_group.plot(y='suicides/100k pop',kind=\"bar\", figsize=(20, 8), title=\"Average Suicides/100k in Each Country\")"
   ]
  },
  {
   "cell_type": "code",
   "execution_count": 10,
   "metadata": {},
   "outputs": [
    {
     "data": {
      "text/html": [
       "<div>\n",
       "<style scoped>\n",
       "    .dataframe tbody tr th:only-of-type {\n",
       "        vertical-align: middle;\n",
       "    }\n",
       "\n",
       "    .dataframe tbody tr th {\n",
       "        vertical-align: top;\n",
       "    }\n",
       "\n",
       "    .dataframe thead th {\n",
       "        text-align: right;\n",
       "    }\n",
       "</style>\n",
       "<table border=\"1\" class=\"dataframe\">\n",
       "  <thead>\n",
       "    <tr style=\"text-align: right;\">\n",
       "      <th></th>\n",
       "      <th>year</th>\n",
       "      <th>suicides_no</th>\n",
       "      <th>population</th>\n",
       "      <th>suicides/100k pop</th>\n",
       "      <th>HDI for year</th>\n",
       "      <th>gdp_per_capita ($)</th>\n",
       "    </tr>\n",
       "    <tr>\n",
       "      <th>country</th>\n",
       "      <th></th>\n",
       "      <th></th>\n",
       "      <th></th>\n",
       "      <th></th>\n",
       "      <th></th>\n",
       "      <th></th>\n",
       "    </tr>\n",
       "  </thead>\n",
       "  <tbody>\n",
       "    <tr>\n",
       "      <th>Lithuania</th>\n",
       "      <td>2005.419847</td>\n",
       "      <td>107.019084</td>\n",
       "      <td>2.598672e+05</td>\n",
       "      <td>40.415573</td>\n",
       "      <td>0.794176</td>\n",
       "      <td>9280.549618</td>\n",
       "    </tr>\n",
       "    <tr>\n",
       "      <th>Sri Lanka</th>\n",
       "      <td>1997.545455</td>\n",
       "      <td>421.522727</td>\n",
       "      <td>1.382770e+06</td>\n",
       "      <td>35.295152</td>\n",
       "      <td>0.523091</td>\n",
       "      <td>904.272727</td>\n",
       "    </tr>\n",
       "    <tr>\n",
       "      <th>Russian Federation</th>\n",
       "      <td>2002.000000</td>\n",
       "      <td>3733.771605</td>\n",
       "      <td>1.139137e+07</td>\n",
       "      <td>34.892377</td>\n",
       "      <td>0.681074</td>\n",
       "      <td>6518.814815</td>\n",
       "    </tr>\n",
       "    <tr>\n",
       "      <th>Hungary</th>\n",
       "      <td>2003.419355</td>\n",
       "      <td>238.358065</td>\n",
       "      <td>8.020782e+05</td>\n",
       "      <td>32.761516</td>\n",
       "      <td>0.717284</td>\n",
       "      <td>9370.051613</td>\n",
       "    </tr>\n",
       "    <tr>\n",
       "      <th>Belarus</th>\n",
       "      <td>2001.095238</td>\n",
       "      <td>237.666667</td>\n",
       "      <td>7.832234e+05</td>\n",
       "      <td>31.075913</td>\n",
       "      <td>0.313952</td>\n",
       "      <td>3333.904762</td>\n",
       "    </tr>\n",
       "    <tr>\n",
       "      <th>Kazakhstan</th>\n",
       "      <td>2002.500000</td>\n",
       "      <td>325.467949</td>\n",
       "      <td>1.209980e+06</td>\n",
       "      <td>30.511282</td>\n",
       "      <td>0.657077</td>\n",
       "      <td>5329.115385</td>\n",
       "    </tr>\n",
       "    <tr>\n",
       "      <th>Latvia</th>\n",
       "      <td>2005.000000</td>\n",
       "      <td>50.674603</td>\n",
       "      <td>1.779867e+05</td>\n",
       "      <td>29.259325</td>\n",
       "      <td>0.773381</td>\n",
       "      <td>8961.095238</td>\n",
       "    </tr>\n",
       "    <tr>\n",
       "      <th>Slovenia</th>\n",
       "      <td>2005.000000</td>\n",
       "      <td>42.123016</td>\n",
       "      <td>1.597961e+05</td>\n",
       "      <td>27.827857</td>\n",
       "      <td>0.849143</td>\n",
       "      <td>18642.238095</td>\n",
       "    </tr>\n",
       "    <tr>\n",
       "      <th>Estonia</th>\n",
       "      <td>2005.000000</td>\n",
       "      <td>27.912698</td>\n",
       "      <td>1.075032e+05</td>\n",
       "      <td>27.276905</td>\n",
       "      <td>0.811048</td>\n",
       "      <td>11376.095238</td>\n",
       "    </tr>\n",
       "    <tr>\n",
       "      <th>Ukraine</th>\n",
       "      <td>2000.571429</td>\n",
       "      <td>952.232143</td>\n",
       "      <td>3.828777e+06</td>\n",
       "      <td>26.582321</td>\n",
       "      <td>0.519071</td>\n",
       "      <td>1867.535714</td>\n",
       "    </tr>\n",
       "    <tr>\n",
       "      <th>Republic of Korea</th>\n",
       "      <td>2000.000000</td>\n",
       "      <td>703.575269</td>\n",
       "      <td>3.642325e+06</td>\n",
       "      <td>25.135618</td>\n",
       "      <td>-1.000000</td>\n",
       "      <td>14801.258065</td>\n",
       "    </tr>\n",
       "    <tr>\n",
       "      <th>Austria</th>\n",
       "      <td>2000.418848</td>\n",
       "      <td>131.081152</td>\n",
       "      <td>6.383589e+05</td>\n",
       "      <td>23.759764</td>\n",
       "      <td>0.614482</td>\n",
       "      <td>34261.780105</td>\n",
       "    </tr>\n",
       "    <tr>\n",
       "      <th>Croatia</th>\n",
       "      <td>2005.419847</td>\n",
       "      <td>70.339695</td>\n",
       "      <td>3.501158e+05</td>\n",
       "      <td>22.835267</td>\n",
       "      <td>0.777939</td>\n",
       "      <td>10355.870229</td>\n",
       "    </tr>\n",
       "    <tr>\n",
       "      <th>Finland</th>\n",
       "      <td>2001.000000</td>\n",
       "      <td>96.772989</td>\n",
       "      <td>4.078324e+05</td>\n",
       "      <td>22.770431</td>\n",
       "      <td>0.664586</td>\n",
       "      <td>35468.275862</td>\n",
       "    </tr>\n",
       "    <tr>\n",
       "      <th>Guyana</th>\n",
       "      <td>2000.520000</td>\n",
       "      <td>11.420000</td>\n",
       "      <td>5.531530e+04</td>\n",
       "      <td>22.186400</td>\n",
       "      <td>0.470480</td>\n",
       "      <td>1674.920000</td>\n",
       "    </tr>\n",
       "    <tr>\n",
       "      <th>Serbia</th>\n",
       "      <td>2006.500000</td>\n",
       "      <td>111.939815</td>\n",
       "      <td>5.839821e+05</td>\n",
       "      <td>22.164120</td>\n",
       "      <td>0.743056</td>\n",
       "      <td>4471.277778</td>\n",
       "    </tr>\n",
       "    <tr>\n",
       "      <th>France</th>\n",
       "      <td>1999.500000</td>\n",
       "      <td>914.241667</td>\n",
       "      <td>4.640991e+06</td>\n",
       "      <td>21.675694</td>\n",
       "      <td>0.598967</td>\n",
       "      <td>31481.466667</td>\n",
       "    </tr>\n",
       "    <tr>\n",
       "      <th>Japan</th>\n",
       "      <td>2000.000000</td>\n",
       "      <td>2169.091398</td>\n",
       "      <td>9.895228e+06</td>\n",
       "      <td>21.573199</td>\n",
       "      <td>0.619032</td>\n",
       "      <td>36397.548387</td>\n",
       "    </tr>\n",
       "    <tr>\n",
       "      <th>Suriname</th>\n",
       "      <td>1999.928571</td>\n",
       "      <td>6.446429</td>\n",
       "      <td>3.464068e+04</td>\n",
       "      <td>21.316429</td>\n",
       "      <td>-0.333821</td>\n",
       "      <td>4351.964286</td>\n",
       "    </tr>\n",
       "    <tr>\n",
       "      <th>Belgium</th>\n",
       "      <td>2000.000000</td>\n",
       "      <td>168.712366</td>\n",
       "      <td>8.153296e+05</td>\n",
       "      <td>21.237903</td>\n",
       "      <td>0.626032</td>\n",
       "      <td>32066.741935</td>\n",
       "    </tr>\n",
       "    <tr>\n",
       "      <th>Cuba</th>\n",
       "      <td>2003.500000</td>\n",
       "      <td>143.812500</td>\n",
       "      <td>8.742713e+05</td>\n",
       "      <td>21.222049</td>\n",
       "      <td>0.718833</td>\n",
       "      <td>4351.166667</td>\n",
       "    </tr>\n",
       "    <tr>\n",
       "      <th>Bulgaria</th>\n",
       "      <td>1999.500000</td>\n",
       "      <td>101.077778</td>\n",
       "      <td>6.442777e+05</td>\n",
       "      <td>19.489111</td>\n",
       "      <td>0.500367</td>\n",
       "      <td>3640.433333</td>\n",
       "    </tr>\n",
       "    <tr>\n",
       "      <th>Uruguay</th>\n",
       "      <td>2000.214286</td>\n",
       "      <td>39.101190</td>\n",
       "      <td>2.502052e+05</td>\n",
       "      <td>19.461190</td>\n",
       "      <td>0.496821</td>\n",
       "      <td>7622.071429</td>\n",
       "    </tr>\n",
       "    <tr>\n",
       "      <th>Switzerland</th>\n",
       "      <td>2005.000000</td>\n",
       "      <td>104.035714</td>\n",
       "      <td>5.952143e+05</td>\n",
       "      <td>19.024087</td>\n",
       "      <td>0.901714</td>\n",
       "      <td>62981.761905</td>\n",
       "    </tr>\n",
       "    <tr>\n",
       "      <th>Czech Republic</th>\n",
       "      <td>2002.919255</td>\n",
       "      <td>135.673913</td>\n",
       "      <td>8.202066e+05</td>\n",
       "      <td>18.487547</td>\n",
       "      <td>-0.383304</td>\n",
       "      <td>12369.546584</td>\n",
       "    </tr>\n",
       "    <tr>\n",
       "      <th>Mongolia</th>\n",
       "      <td>2016.000000</td>\n",
       "      <td>42.300000</td>\n",
       "      <td>2.167589e+05</td>\n",
       "      <td>18.439000</td>\n",
       "      <td>0.743000</td>\n",
       "      <td>4145.000000</td>\n",
       "    </tr>\n",
       "    <tr>\n",
       "      <th>Singapore</th>\n",
       "      <td>2000.000000</td>\n",
       "      <td>27.120968</td>\n",
       "      <td>2.533399e+05</td>\n",
       "      <td>17.045645</td>\n",
       "      <td>0.536194</td>\n",
       "      <td>38050.258065</td>\n",
       "    </tr>\n",
       "    <tr>\n",
       "      <th>Luxembourg</th>\n",
       "      <td>2000.000000</td>\n",
       "      <td>5.263441</td>\n",
       "      <td>3.482031e+04</td>\n",
       "      <td>16.549892</td>\n",
       "      <td>0.610484</td>\n",
       "      <td>68798.387097</td>\n",
       "    </tr>\n",
       "    <tr>\n",
       "      <th>Germany</th>\n",
       "      <td>2002.500000</td>\n",
       "      <td>933.532051</td>\n",
       "      <td>6.489986e+06</td>\n",
       "      <td>15.559904</td>\n",
       "      <td>0.874577</td>\n",
       "      <td>35164.230769</td>\n",
       "    </tr>\n",
       "    <tr>\n",
       "      <th>Poland</th>\n",
       "      <td>2002.916667</td>\n",
       "      <td>482.979167</td>\n",
       "      <td>3.007570e+06</td>\n",
       "      <td>15.269514</td>\n",
       "      <td>0.790542</td>\n",
       "      <td>8146.458333</td>\n",
       "    </tr>\n",
       "    <tr>\n",
       "      <th>...</th>\n",
       "      <td>...</td>\n",
       "      <td>...</td>\n",
       "      <td>...</td>\n",
       "      <td>...</td>\n",
       "      <td>...</td>\n",
       "      <td>...</td>\n",
       "    </tr>\n",
       "    <tr>\n",
       "      <th>Colombia</th>\n",
       "      <td>2000.000000</td>\n",
       "      <td>142.688172</td>\n",
       "      <td>2.978339e+06</td>\n",
       "      <td>5.401586</td>\n",
       "      <td>0.448806</td>\n",
       "      <td>3708.967742</td>\n",
       "    </tr>\n",
       "    <tr>\n",
       "      <th>Fiji</th>\n",
       "      <td>2006.181818</td>\n",
       "      <td>2.303030</td>\n",
       "      <td>6.202569e+04</td>\n",
       "      <td>5.105000</td>\n",
       "      <td>0.701091</td>\n",
       "      <td>3913.272727</td>\n",
       "    </tr>\n",
       "    <tr>\n",
       "      <th>Malta</th>\n",
       "      <td>2000.000000</td>\n",
       "      <td>1.572581</td>\n",
       "      <td>3.018119e+04</td>\n",
       "      <td>5.032285</td>\n",
       "      <td>0.560032</td>\n",
       "      <td>14044.419355</td>\n",
       "    </tr>\n",
       "    <tr>\n",
       "      <th>Mexico</th>\n",
       "      <td>2000.000000</td>\n",
       "      <td>298.760753</td>\n",
       "      <td>7.454191e+06</td>\n",
       "      <td>4.707500</td>\n",
       "      <td>0.487258</td>\n",
       "      <td>7138.451613</td>\n",
       "    </tr>\n",
       "    <tr>\n",
       "      <th>Bosnia and Herzegovina</th>\n",
       "      <td>2012.500000</td>\n",
       "      <td>13.250000</td>\n",
       "      <td>3.053117e+05</td>\n",
       "      <td>4.617083</td>\n",
       "      <td>0.728500</td>\n",
       "      <td>5077.500000</td>\n",
       "    </tr>\n",
       "    <tr>\n",
       "      <th>Georgia</th>\n",
       "      <td>2002.681818</td>\n",
       "      <td>12.212121</td>\n",
       "      <td>3.545409e+05</td>\n",
       "      <td>4.228712</td>\n",
       "      <td>0.019909</td>\n",
       "      <td>1893.136364</td>\n",
       "    </tr>\n",
       "    <tr>\n",
       "      <th>Paraguay</th>\n",
       "      <td>2000.444444</td>\n",
       "      <td>14.762346</td>\n",
       "      <td>3.846974e+05</td>\n",
       "      <td>4.217191</td>\n",
       "      <td>0.452963</td>\n",
       "      <td>2365.777778</td>\n",
       "    </tr>\n",
       "    <tr>\n",
       "      <th>Greece</th>\n",
       "      <td>2000.000000</td>\n",
       "      <td>33.247312</td>\n",
       "      <td>8.497207e+05</td>\n",
       "      <td>4.064839</td>\n",
       "      <td>0.580419</td>\n",
       "      <td>17019.387097</td>\n",
       "    </tr>\n",
       "    <tr>\n",
       "      <th>San Marino</th>\n",
       "      <td>2001.333333</td>\n",
       "      <td>0.111111</td>\n",
       "      <td>2.189583e+03</td>\n",
       "      <td>4.045000</td>\n",
       "      <td>-1.000000</td>\n",
       "      <td>53663.666667</td>\n",
       "    </tr>\n",
       "    <tr>\n",
       "      <th>Albania</th>\n",
       "      <td>1999.227273</td>\n",
       "      <td>7.462121</td>\n",
       "      <td>2.360813e+05</td>\n",
       "      <td>3.502879</td>\n",
       "      <td>0.443409</td>\n",
       "      <td>1859.045455</td>\n",
       "    </tr>\n",
       "    <tr>\n",
       "      <th>Cyprus</th>\n",
       "      <td>2008.516854</td>\n",
       "      <td>2.314607</td>\n",
       "      <td>6.521046e+04</td>\n",
       "      <td>3.293596</td>\n",
       "      <td>0.841517</td>\n",
       "      <td>27668.224719</td>\n",
       "    </tr>\n",
       "    <tr>\n",
       "      <th>Armenia</th>\n",
       "      <td>2002.791946</td>\n",
       "      <td>6.392617</td>\n",
       "      <td>2.595576e+05</td>\n",
       "      <td>3.275872</td>\n",
       "      <td>0.671081</td>\n",
       "      <td>1873.919463</td>\n",
       "    </tr>\n",
       "    <tr>\n",
       "      <th>Guatemala</th>\n",
       "      <td>2000.500000</td>\n",
       "      <td>22.636111</td>\n",
       "      <td>8.482162e+05</td>\n",
       "      <td>3.185278</td>\n",
       "      <td>0.352200</td>\n",
       "      <td>2263.533333</td>\n",
       "    </tr>\n",
       "    <tr>\n",
       "      <th>Barbados</th>\n",
       "      <td>1999.240000</td>\n",
       "      <td>0.590000</td>\n",
       "      <td>2.071230e+04</td>\n",
       "      <td>2.970433</td>\n",
       "      <td>0.473280</td>\n",
       "      <td>12251.000000</td>\n",
       "    </tr>\n",
       "    <tr>\n",
       "      <th>Philippines</th>\n",
       "      <td>2002.400000</td>\n",
       "      <td>118.500000</td>\n",
       "      <td>5.917045e+06</td>\n",
       "      <td>2.421278</td>\n",
       "      <td>0.632133</td>\n",
       "      <td>1540.200000</td>\n",
       "    </tr>\n",
       "    <tr>\n",
       "      <th>Turkey</th>\n",
       "      <td>2012.000000</td>\n",
       "      <td>120.607143</td>\n",
       "      <td>5.745721e+06</td>\n",
       "      <td>2.371071</td>\n",
       "      <td>0.752286</td>\n",
       "      <td>12134.285714</td>\n",
       "    </tr>\n",
       "    <tr>\n",
       "      <th>Grenada</th>\n",
       "      <td>2001.793548</td>\n",
       "      <td>0.122581</td>\n",
       "      <td>7.571890e+03</td>\n",
       "      <td>2.132258</td>\n",
       "      <td>-0.003458</td>\n",
       "      <td>6209.406452</td>\n",
       "    </tr>\n",
       "    <tr>\n",
       "      <th>Azerbaijan</th>\n",
       "      <td>1997.625000</td>\n",
       "      <td>8.625000</td>\n",
       "      <td>5.822411e+05</td>\n",
       "      <td>1.855417</td>\n",
       "      <td>0.130687</td>\n",
       "      <td>1005.125000</td>\n",
       "    </tr>\n",
       "    <tr>\n",
       "      <th>Bahrain</th>\n",
       "      <td>2002.809524</td>\n",
       "      <td>1.837302</td>\n",
       "      <td>6.648383e+04</td>\n",
       "      <td>1.854127</td>\n",
       "      <td>0.625333</td>\n",
       "      <td>18039.523810</td>\n",
       "    </tr>\n",
       "    <tr>\n",
       "      <th>Qatar</th>\n",
       "      <td>2008.314607</td>\n",
       "      <td>3.224719</td>\n",
       "      <td>1.228682e+05</td>\n",
       "      <td>1.787360</td>\n",
       "      <td>0.834640</td>\n",
       "      <td>67756.449438</td>\n",
       "    </tr>\n",
       "    <tr>\n",
       "      <th>Maldives</th>\n",
       "      <td>2005.100000</td>\n",
       "      <td>0.166667</td>\n",
       "      <td>2.416872e+04</td>\n",
       "      <td>1.367333</td>\n",
       "      <td>0.641500</td>\n",
       "      <td>5088.900000</td>\n",
       "    </tr>\n",
       "    <tr>\n",
       "      <th>United Arab Emirates</th>\n",
       "      <td>2007.500000</td>\n",
       "      <td>8.638889</td>\n",
       "      <td>5.069760e+05</td>\n",
       "      <td>1.317917</td>\n",
       "      <td>0.831333</td>\n",
       "      <td>42162.000000</td>\n",
       "    </tr>\n",
       "    <tr>\n",
       "      <th>Bahamas</th>\n",
       "      <td>2001.521739</td>\n",
       "      <td>0.336957</td>\n",
       "      <td>2.375742e+04</td>\n",
       "      <td>1.247391</td>\n",
       "      <td>0.085174</td>\n",
       "      <td>25836.391304</td>\n",
       "    </tr>\n",
       "    <tr>\n",
       "      <th>Kuwait</th>\n",
       "      <td>2001.400000</td>\n",
       "      <td>3.220000</td>\n",
       "      <td>1.903666e+05</td>\n",
       "      <td>1.186433</td>\n",
       "      <td>0.639600</td>\n",
       "      <td>27819.000000</td>\n",
       "    </tr>\n",
       "    <tr>\n",
       "      <th>South Africa</th>\n",
       "      <td>2005.500000</td>\n",
       "      <td>30.504167</td>\n",
       "      <td>3.638045e+06</td>\n",
       "      <td>0.964542</td>\n",
       "      <td>0.637500</td>\n",
       "      <td>5589.500000</td>\n",
       "    </tr>\n",
       "    <tr>\n",
       "      <th>Oman</th>\n",
       "      <td>2011.000000</td>\n",
       "      <td>0.916667</td>\n",
       "      <td>2.496413e+05</td>\n",
       "      <td>0.736111</td>\n",
       "      <td>0.792333</td>\n",
       "      <td>20740.666667</td>\n",
       "    </tr>\n",
       "    <tr>\n",
       "      <th>Antigua and Barbuda</th>\n",
       "      <td>1999.481481</td>\n",
       "      <td>0.033951</td>\n",
       "      <td>6.142679e+03</td>\n",
       "      <td>0.552901</td>\n",
       "      <td>-0.408037</td>\n",
       "      <td>10448.185185</td>\n",
       "    </tr>\n",
       "    <tr>\n",
       "      <th>Jamaica</th>\n",
       "      <td>1998.058824</td>\n",
       "      <td>0.901961</td>\n",
       "      <td>1.935383e+05</td>\n",
       "      <td>0.521765</td>\n",
       "      <td>0.292118</td>\n",
       "      <td>3301.235294</td>\n",
       "    </tr>\n",
       "    <tr>\n",
       "      <th>Saint Kitts and Nevis</th>\n",
       "      <td>1991.000000</td>\n",
       "      <td>0.000000</td>\n",
       "      <td>3.258333e+03</td>\n",
       "      <td>0.000000</td>\n",
       "      <td>-1.000000</td>\n",
       "      <td>5525.000000</td>\n",
       "    </tr>\n",
       "    <tr>\n",
       "      <th>Dominica</th>\n",
       "      <td>1985.000000</td>\n",
       "      <td>0.000000</td>\n",
       "      <td>5.533333e+03</td>\n",
       "      <td>0.000000</td>\n",
       "      <td>-1.000000</td>\n",
       "      <td>1485.000000</td>\n",
       "    </tr>\n",
       "  </tbody>\n",
       "</table>\n",
       "<p>101 rows × 6 columns</p>\n",
       "</div>"
      ],
      "text/plain": [
       "                               year  suicides_no    population  \\\n",
       "country                                                          \n",
       "Lithuania               2005.419847   107.019084  2.598672e+05   \n",
       "Sri Lanka               1997.545455   421.522727  1.382770e+06   \n",
       "Russian Federation      2002.000000  3733.771605  1.139137e+07   \n",
       "Hungary                 2003.419355   238.358065  8.020782e+05   \n",
       "Belarus                 2001.095238   237.666667  7.832234e+05   \n",
       "Kazakhstan              2002.500000   325.467949  1.209980e+06   \n",
       "Latvia                  2005.000000    50.674603  1.779867e+05   \n",
       "Slovenia                2005.000000    42.123016  1.597961e+05   \n",
       "Estonia                 2005.000000    27.912698  1.075032e+05   \n",
       "Ukraine                 2000.571429   952.232143  3.828777e+06   \n",
       "Republic of Korea       2000.000000   703.575269  3.642325e+06   \n",
       "Austria                 2000.418848   131.081152  6.383589e+05   \n",
       "Croatia                 2005.419847    70.339695  3.501158e+05   \n",
       "Finland                 2001.000000    96.772989  4.078324e+05   \n",
       "Guyana                  2000.520000    11.420000  5.531530e+04   \n",
       "Serbia                  2006.500000   111.939815  5.839821e+05   \n",
       "France                  1999.500000   914.241667  4.640991e+06   \n",
       "Japan                   2000.000000  2169.091398  9.895228e+06   \n",
       "Suriname                1999.928571     6.446429  3.464068e+04   \n",
       "Belgium                 2000.000000   168.712366  8.153296e+05   \n",
       "Cuba                    2003.500000   143.812500  8.742713e+05   \n",
       "Bulgaria                1999.500000   101.077778  6.442777e+05   \n",
       "Uruguay                 2000.214286    39.101190  2.502052e+05   \n",
       "Switzerland             2005.000000   104.035714  5.952143e+05   \n",
       "Czech Republic          2002.919255   135.673913  8.202066e+05   \n",
       "Mongolia                2016.000000    42.300000  2.167589e+05   \n",
       "Singapore               2000.000000    27.120968  2.533399e+05   \n",
       "Luxembourg              2000.000000     5.263441  3.482031e+04   \n",
       "Germany                 2002.500000   933.532051  6.489986e+06   \n",
       "Poland                  2002.916667   482.979167  3.007570e+06   \n",
       "...                             ...          ...           ...   \n",
       "Colombia                2000.000000   142.688172  2.978339e+06   \n",
       "Fiji                    2006.181818     2.303030  6.202569e+04   \n",
       "Malta                   2000.000000     1.572581  3.018119e+04   \n",
       "Mexico                  2000.000000   298.760753  7.454191e+06   \n",
       "Bosnia and Herzegovina  2012.500000    13.250000  3.053117e+05   \n",
       "Georgia                 2002.681818    12.212121  3.545409e+05   \n",
       "Paraguay                2000.444444    14.762346  3.846974e+05   \n",
       "Greece                  2000.000000    33.247312  8.497207e+05   \n",
       "San Marino              2001.333333     0.111111  2.189583e+03   \n",
       "Albania                 1999.227273     7.462121  2.360813e+05   \n",
       "Cyprus                  2008.516854     2.314607  6.521046e+04   \n",
       "Armenia                 2002.791946     6.392617  2.595576e+05   \n",
       "Guatemala               2000.500000    22.636111  8.482162e+05   \n",
       "Barbados                1999.240000     0.590000  2.071230e+04   \n",
       "Philippines             2002.400000   118.500000  5.917045e+06   \n",
       "Turkey                  2012.000000   120.607143  5.745721e+06   \n",
       "Grenada                 2001.793548     0.122581  7.571890e+03   \n",
       "Azerbaijan              1997.625000     8.625000  5.822411e+05   \n",
       "Bahrain                 2002.809524     1.837302  6.648383e+04   \n",
       "Qatar                   2008.314607     3.224719  1.228682e+05   \n",
       "Maldives                2005.100000     0.166667  2.416872e+04   \n",
       "United Arab Emirates    2007.500000     8.638889  5.069760e+05   \n",
       "Bahamas                 2001.521739     0.336957  2.375742e+04   \n",
       "Kuwait                  2001.400000     3.220000  1.903666e+05   \n",
       "South Africa            2005.500000    30.504167  3.638045e+06   \n",
       "Oman                    2011.000000     0.916667  2.496413e+05   \n",
       "Antigua and Barbuda     1999.481481     0.033951  6.142679e+03   \n",
       "Jamaica                 1998.058824     0.901961  1.935383e+05   \n",
       "Saint Kitts and Nevis   1991.000000     0.000000  3.258333e+03   \n",
       "Dominica                1985.000000     0.000000  5.533333e+03   \n",
       "\n",
       "                        suicides/100k pop  HDI for year  gdp_per_capita ($)  \n",
       "country                                                                      \n",
       "Lithuania                       40.415573      0.794176         9280.549618  \n",
       "Sri Lanka                       35.295152      0.523091          904.272727  \n",
       "Russian Federation              34.892377      0.681074         6518.814815  \n",
       "Hungary                         32.761516      0.717284         9370.051613  \n",
       "Belarus                         31.075913      0.313952         3333.904762  \n",
       "Kazakhstan                      30.511282      0.657077         5329.115385  \n",
       "Latvia                          29.259325      0.773381         8961.095238  \n",
       "Slovenia                        27.827857      0.849143        18642.238095  \n",
       "Estonia                         27.276905      0.811048        11376.095238  \n",
       "Ukraine                         26.582321      0.519071         1867.535714  \n",
       "Republic of Korea               25.135618     -1.000000        14801.258065  \n",
       "Austria                         23.759764      0.614482        34261.780105  \n",
       "Croatia                         22.835267      0.777939        10355.870229  \n",
       "Finland                         22.770431      0.664586        35468.275862  \n",
       "Guyana                          22.186400      0.470480         1674.920000  \n",
       "Serbia                          22.164120      0.743056         4471.277778  \n",
       "France                          21.675694      0.598967        31481.466667  \n",
       "Japan                           21.573199      0.619032        36397.548387  \n",
       "Suriname                        21.316429     -0.333821         4351.964286  \n",
       "Belgium                         21.237903      0.626032        32066.741935  \n",
       "Cuba                            21.222049      0.718833         4351.166667  \n",
       "Bulgaria                        19.489111      0.500367         3640.433333  \n",
       "Uruguay                         19.461190      0.496821         7622.071429  \n",
       "Switzerland                     19.024087      0.901714        62981.761905  \n",
       "Czech Republic                  18.487547     -0.383304        12369.546584  \n",
       "Mongolia                        18.439000      0.743000         4145.000000  \n",
       "Singapore                       17.045645      0.536194        38050.258065  \n",
       "Luxembourg                      16.549892      0.610484        68798.387097  \n",
       "Germany                         15.559904      0.874577        35164.230769  \n",
       "Poland                          15.269514      0.790542         8146.458333  \n",
       "...                                   ...           ...                 ...  \n",
       "Colombia                         5.401586      0.448806         3708.967742  \n",
       "Fiji                             5.105000      0.701091         3913.272727  \n",
       "Malta                            5.032285      0.560032        14044.419355  \n",
       "Mexico                           4.707500      0.487258         7138.451613  \n",
       "Bosnia and Herzegovina           4.617083      0.728500         5077.500000  \n",
       "Georgia                          4.228712      0.019909         1893.136364  \n",
       "Paraguay                         4.217191      0.452963         2365.777778  \n",
       "Greece                           4.064839      0.580419        17019.387097  \n",
       "San Marino                       4.045000     -1.000000        53663.666667  \n",
       "Albania                          3.502879      0.443409         1859.045455  \n",
       "Cyprus                           3.293596      0.841517        27668.224719  \n",
       "Armenia                          3.275872      0.671081         1873.919463  \n",
       "Guatemala                        3.185278      0.352200         2263.533333  \n",
       "Barbados                         2.970433      0.473280        12251.000000  \n",
       "Philippines                      2.421278      0.632133         1540.200000  \n",
       "Turkey                           2.371071      0.752286        12134.285714  \n",
       "Grenada                          2.132258     -0.003458         6209.406452  \n",
       "Azerbaijan                       1.855417      0.130687         1005.125000  \n",
       "Bahrain                          1.854127      0.625333        18039.523810  \n",
       "Qatar                            1.787360      0.834640        67756.449438  \n",
       "Maldives                         1.367333      0.641500         5088.900000  \n",
       "United Arab Emirates             1.317917      0.831333        42162.000000  \n",
       "Bahamas                          1.247391      0.085174        25836.391304  \n",
       "Kuwait                           1.186433      0.639600        27819.000000  \n",
       "South Africa                     0.964542      0.637500         5589.500000  \n",
       "Oman                             0.736111      0.792333        20740.666667  \n",
       "Antigua and Barbuda              0.552901     -0.408037        10448.185185  \n",
       "Jamaica                          0.521765      0.292118         3301.235294  \n",
       "Saint Kitts and Nevis            0.000000     -1.000000         5525.000000  \n",
       "Dominica                         0.000000     -1.000000         1485.000000  \n",
       "\n",
       "[101 rows x 6 columns]"
      ]
     },
     "execution_count": 10,
     "metadata": {},
     "output_type": "execute_result"
    }
   ],
   "source": [
    "country_group"
   ]
  },
  {
   "cell_type": "markdown",
   "metadata": {},
   "source": [
    "Above table is countries that are sorted in the order of suicide rate. \n",
    "As we can see there is a large disparity in the amount of suicides per capita based on what country you are in"
   ]
  },
  {
   "cell_type": "code",
   "execution_count": 11,
   "metadata": {},
   "outputs": [
    {
     "data": {
      "text/plain": [
       "<matplotlib.axes._subplots.AxesSubplot at 0x7f78689249e8>"
      ]
     },
     "execution_count": 11,
     "metadata": {},
     "output_type": "execute_result"
    },
    {
     "data": {
      "image/png": "[encoded data removed]",
      "text/plain": [
       "<Figure size 360x360 with 1 Axes>"
      ]
     },
     "metadata": {
      "needs_background": "light"
     },
     "output_type": "display_data"
    }
   ],
   "source": [
    "age_group = main_df.groupby('age').mean()\n",
    "age_group = age_group.sort_values(by=['suicides/100k pop'], ascending=False)\n",
    "age_group.plot(y='suicides/100k pop',kind=\"bar\", figsize=(5, 5), title=\"Average Suicides/100k in Each Age Group\")"
   ]
  },
  {
   "cell_type": "markdown",
   "metadata": {},
   "source": [
    "As we can see in the graph above, age group of 75+ has the highest suicide rate and age group of 5-14 has the lowest suicide rate."
   ]
  },
  {
   "cell_type": "code",
   "execution_count": 12,
   "metadata": {},
   "outputs": [
    {
     "data": {
      "text/plain": [
       "<matplotlib.axes._subplots.AxesSubplot at 0x7f786889bc88>"
      ]
     },
     "execution_count": 12,
     "metadata": {},
     "output_type": "execute_result"
    },
    {
     "data": {
      "image/png": "[encoded data removed]",
      "text/plain": [
       "<Figure size 360x360 with 1 Axes>"
      ]
     },
     "metadata": {
      "needs_background": "light"
     },
     "output_type": "display_data"
    }
   ],
   "source": [
    "gender_group = main_df.groupby('sex').mean()\n",
    "gender_group = gender_group.sort_values(by=['suicides/100k pop'], ascending=False)\n",
    "gender_group.plot(y='suicides/100k pop',kind=\"bar\", figsize=(5, 5), title=\"Average Suicides/100k in Each Gender Group\")"
   ]
  },
  {
   "cell_type": "markdown",
   "metadata": {},
   "source": [
    "As we can see in the graph above, males' suicide rate is significantly higher than females'."
   ]
  },
  {
   "cell_type": "markdown",
   "metadata": {},
   "source": [
    "Here we are looking for the ratio of males' and females' suicide rate as year changes."
   ]
  },
  {
   "cell_type": "code",
   "execution_count": 13,
   "metadata": {},
   "outputs": [],
   "source": [
    "ratio_df = main_df\n",
    "ratio_df = ratio_df.astype({\"year\":str})\n",
    "ratio_df['year-gender'] = ratio_df['sex']+ratio_df['year']"
   ]
  },
  {
   "cell_type": "code",
   "execution_count": 14,
   "metadata": {},
   "outputs": [],
   "source": [
    "# combine suicide number of diffent gender and age in same country and same year\n",
    "\n",
    "aggregation = {'year-gender': 'first','year': 'first', 'suicides/100k pop': 'sum', 'sex':'first'}\n",
    "new_ratio_df = ratio_df.groupby(ratio_df['year-gender']).aggregate(aggregation).reindex(columns=ratio_df.columns)\n",
    "new_ratio_df.drop(['country-year','country', 'age', 'suicides_no','population','HDI for year','gdp_for_year ($)','generation', 'gdp_per_capita ($)'], inplace=True, axis=1)\n",
    "new_ratio_df['ratio'] = 0\n",
    "\n",
    "for i in range (0, 32):\n",
    "    new_ratio_df.iloc[i, 4] = new_ratio_df.iloc[i, 2]/new_ratio_df.iloc[i+32, 2]\n",
    "    new_ratio_df.iloc[i+32, 4] = new_ratio_df.iloc[i, 2]/new_ratio_df.iloc[i+32, 2]"
   ]
  },
  {
   "cell_type": "code",
   "execution_count": 15,
   "metadata": {},
   "outputs": [
    {
     "data": {
      "image/png": "[encoded data removed]",
      "text/plain": [
       "<Figure size 1440x720 with 1 Axes>"
      ]
     },
     "metadata": {
      "needs_background": "light"
     },
     "output_type": "display_data"
    }
   ],
   "source": [
    "# scatter plot to see suicide rate and GDP per capita for countries in different year\n",
    "plt.figure(figsize=(20,10))\n",
    "plt.scatter(new_ratio_df['year'],new_ratio_df['ratio'])\n",
    "plt.title(\"Scatter plot of every year's suicide rate ratio in gender\")\n",
    "plt.xlabel(\"Year\")\n",
    "plt.ylabel(\"Ratio\")\n",
    "plt.show()"
   ]
  },
  {
   "cell_type": "markdown",
   "metadata": {},
   "source": [
    "As we can see in the above graph, the ratio of suicide rate female:male is decreasing. It shows that as years have gone on, the disparity between the number of suicide of each gender has been reducing."
   ]
  },
  {
   "cell_type": "markdown",
   "metadata": {},
   "source": [
    "## Question 3: For each Top suicide rate country, analyse which age or gender are more likely to commit suicide？\n"
   ]
  },
  {
   "cell_type": "code",
   "execution_count": 16,
   "metadata": {},
   "outputs": [
    {
     "data": {
      "text/plain": [
       "<matplotlib.axes._subplots.AxesSubplot at 0x7f785007da58>"
      ]
     },
     "execution_count": 16,
     "metadata": {},
     "output_type": "execute_result"
    },
    {
     "data": {
      "image/png": "[encoded data removed]",
      "text/plain": [
       "<Figure size 2520x1440 with 1 Axes>"
      ]
     },
     "metadata": {
      "needs_background": "light"
     },
     "output_type": "display_data"
    }
   ],
   "source": [
    "country_list = main_df.groupby('country', as_index=False).sum()\n",
    "country_list = country_group.sort_values(by=['suicides/100k pop'], ascending=False)\n",
    "country_list.plot(y='suicides/100k pop',kind=\"bar\", figsize=(35, 20), title=\"Average Suicides/100k in Each Country\")"
   ]
  },
  {
   "cell_type": "code",
   "execution_count": 17,
   "metadata": {},
   "outputs": [],
   "source": [
    "top_country = country_list[0:3]"
   ]
  },
  {
   "cell_type": "code",
   "execution_count": null,
   "metadata": {},
   "outputs": [],
   "source": [
    "top_country"
   ]
  },
  {
   "cell_type": "markdown",
   "metadata": {},
   "source": [
    "### Lithuania"
   ]
  },
  {
   "cell_type": "code",
   "execution_count": null,
   "metadata": {},
   "outputs": [],
   "source": [
    "lithuania = main_df[main_df['country']=='Lithuania']\n",
    "litAge = lithuania.groupby('age').sum()\n",
    "litAge = litAge.sort_values(by=['suicides/100k pop'], ascending=False)\n",
    "litAge.plot(y='suicides/100k pop',kind=\"bar\", figsize=(10, 7), title=\"Average Suicides/100k in different age range in Lithuania\")"
   ]
  },
  {
   "cell_type": "markdown",
   "metadata": {},
   "source": [
    "As a result, people between 35-54 years old has the highest population to commit suicide, followed by 55-74 and 75+ ages old people."
   ]
  },
  {
   "cell_type": "code",
   "execution_count": null,
   "metadata": {},
   "outputs": [],
   "source": [
    "litGender = lithuania.groupby('sex').sum()\n",
    "litGender = litGender.sort_values(by=['suicides/100k pop'], ascending=False)\n",
    "litGender.plot(y='suicides/100k pop',kind=\"bar\", figsize=(10, 5), title=\"Average Suicides/100k in gender in Lithuania\")"
   ]
  },
  {
   "cell_type": "markdown",
   "metadata": {},
   "source": [
    "As shown above, most people who commit suicide in Lithuania are male."
   ]
  },
  {
   "cell_type": "code",
   "execution_count": null,
   "metadata": {},
   "outputs": [],
   "source": [
    "litYear = lithuania.groupby('year').sum()\n",
    "litYear = litYear.sort_values(by=['suicides/100k pop'], ascending=False)\n",
    "litYear.plot(y='suicides/100k pop',kind=\"bar\", figsize=(35, 20), title=\"Average Suicides/100k in Each Year in Lithuania\")"
   ]
  },
  {
   "cell_type": "markdown",
   "metadata": {},
   "source": [
    "As the graph shows, the average suicide rate is decreasing significantly as year increases. In another word, less people commit suicide nowadays."
   ]
  },
  {
   "cell_type": "markdown",
   "metadata": {},
   "source": [
    "### Sri Lanka"
   ]
  },
  {
   "cell_type": "code",
   "execution_count": null,
   "metadata": {},
   "outputs": [],
   "source": [
    "sri = main_df[main_df['country']=='Sri Lanka']\n",
    "sriAge = sri.groupby('age').sum()\n",
    "sriAge = sriAge.sort_values(by=['suicides/100k pop'], ascending=False)\n",
    "sriAge.plot(y='suicides/100k pop',kind=\"bar\", figsize=(10, 7), title=\"Average Suicides/100k in different age range in Sri Lanka\")"
   ]
  },
  {
   "cell_type": "markdown",
   "metadata": {},
   "source": [
    "As graph shown above, the number of older people between over 75 years old who commit suicide is signigiantly larger than other ages, so more attention to older people would be necessary in order to control the suicide rate in the future for Sri Lanka."
   ]
  },
  {
   "cell_type": "code",
   "execution_count": null,
   "metadata": {},
   "outputs": [],
   "source": [
    "sriGender = sri.groupby('sex').sum()\n",
    "sriGender = sriGender.sort_values(by=['suicides/100k pop'], ascending=False)\n",
    "sriGender.plot(y='suicides/100k pop',kind=\"bar\", figsize=(10, 5), title=\"Average Suicides/100k in gender in Sri Lanka\")"
   ]
  },
  {
   "cell_type": "markdown",
   "metadata": {},
   "source": [
    "Similarly, in Sri Lanka, male also takes a majority of the suicide population."
   ]
  },
  {
   "cell_type": "code",
   "execution_count": null,
   "metadata": {},
   "outputs": [],
   "source": [
    "sriYear = sri.groupby('year').sum()\n",
    "sriYear = sriYear.sort_values(by=['suicides/100k pop'], ascending=False)\n",
    "sriYear.plot(y='suicides/100k pop',kind=\"bar\", figsize=(35, 20), title=\"Average Suicides/100k in Each Year in Sri Lanka\")"
   ]
  },
  {
   "cell_type": "markdown",
   "metadata": {},
   "source": [
    "Russ's suicide population is also decreasing, but the decreasing rate is smaller recent several years."
   ]
  },
  {
   "cell_type": "markdown",
   "metadata": {},
   "source": [
    "### Kuwait"
   ]
  },
  {
   "cell_type": "code",
   "execution_count": null,
   "metadata": {},
   "outputs": [],
   "source": [
    "kuw = main_df[main_df['country']=='Kuwait']\n",
    "kuwAge = kuw.groupby('age').sum()\n",
    "kuwAge = kuwAge.sort_values(by=['suicides/100k pop'], ascending=False)\n",
    "kuwAge.plot(y='suicides/100k pop',kind=\"bar\", figsize=(10, 7), title=\"Average Suicides/100k in different age range in Kuwait\")"
   ]
  },
  {
   "cell_type": "code",
   "execution_count": null,
   "metadata": {},
   "outputs": [],
   "source": [
    "kuwGender = kuw.groupby('sex').sum()\n",
    "kuwGender = kuwGender.sort_values(by=['suicides/100k pop'], ascending=False)\n",
    "kuwGender.plot(y='suicides/100k pop',kind=\"bar\", figsize=(10, 5), title=\"Average Suicides/100k in gender in Kuwait\")"
   ]
  },
  {
   "cell_type": "code",
   "execution_count": null,
   "metadata": {},
   "outputs": [],
   "source": [
    "kuwYear = kuw.groupby('year').sum()\n",
    "kuwYear = kuwYear.sort_values(by=['suicides/100k pop'], ascending=False)\n",
    "kuwYear.plot(y='suicides/100k pop',kind=\"bar\", figsize=(35, 20), title=\"Average Suicides/100k in Each Year in Kuwait\")"
   ]
  },
  {
   "cell_type": "markdown",
   "metadata": {},
   "source": [
    "It could clearly show that the suicide population has decreased "
   ]
  },
  {
   "cell_type": "markdown",
   "metadata": {},
   "source": [
    "Overall, after comparing graphs from different countries with different variable (year, sex, age). We believe that thought their suicide population are all decreasing. That being said, when you compare it to a country with low suicide rate, there is more of a disparity between the ages, but there is less disparity between the sexes. More investigation would be needed to pull more interesting conclusions about these findings."
   ]
  },
  {
   "cell_type": "markdown",
   "metadata": {},
   "source": [
    "### Scatter Matrix"
   ]
  },
  {
   "cell_type": "code",
   "execution_count": null,
   "metadata": {
    "scrolled": true
   },
   "outputs": [],
   "source": [
    "#draw scatter matrix for each two variables\n",
    "from pandas.plotting import scatter_matrix\n",
    "#drop rows where HDI=-1, which means there is no available HDI data for that year\n",
    "main_df = main_df.drop(main_df[main_df['HDI for year'] == -1].index)\n",
    "fig=scatter_matrix(main_df,figsize=(20,18))\n"
   ]
  },
  {
   "cell_type": "markdown",
   "metadata": {},
   "source": [
    "From the scatter plot matrix above, the scatter plot about suicide rate and population number is not strongly related, as well as the scatter plot about suicide rate and year. But we can see there might be some relationship between suicide rate and GDP as well as suicide rate and HDI. Therefore, we will conduct the two hypothesis tests in the following part."
   ]
  },
  {
   "cell_type": "markdown",
   "metadata": {},
   "source": [
    "## Question 4: Is there any relationship between country wealth (GDP per capita) and suicide rate?"
   ]
  },
  {
   "cell_type": "code",
   "execution_count": null,
   "metadata": {},
   "outputs": [],
   "source": [
    "# combine suicide number of diffent gender and age in same country and same year\n",
    "aggregation_functions = {'country-year': 'first','country': 'first','year': 'first', 'suicides/100k pop': 'sum', 'gdp_per_capita ($)': 'first'}\n",
    "df_new = main_df.groupby(main_df['country-year']).aggregate(aggregation_functions).reindex(columns=main_df.columns)\n",
    "df_new.drop(['sex', 'age', 'suicides_no','population','HDI for year','gdp_for_year ($)','generation'], inplace=True, axis=1)"
   ]
  },
  {
   "cell_type": "markdown",
   "metadata": {},
   "source": [
    "### Scatter plot"
   ]
  },
  {
   "cell_type": "code",
   "execution_count": null,
   "metadata": {},
   "outputs": [],
   "source": [
    "# scatter plot to see suicide rate and GDP per capita for countries in different year\n",
    "plt.scatter(df_new['gdp_per_capita ($)'],df_new['suicides/100k pop'],c=df_new['year'])\n",
    "plt.title(\"Scatter plot of every country's suicide rate and GDP per capita from year 1985 to year 2015\")\n",
    "plt.xlabel(\"GDP per capita ($)\")\n",
    "plt.ylabel(\"Suicides/100k population\")\n",
    "plt.colorbar()\n",
    "plt.show()"
   ]
  },
  {
   "cell_type": "markdown",
   "metadata": {},
   "source": [
    "On the scatter plot, we can see in general, the GDP per capita for countries gradually increase from 1985 to 2015, and the suicide rate is a little bit dropping from 1985 to 2015. Although higher the GDP per capita, the boundary for suicide rate drops, we still can't see clearly how suicide rate distributes for countries with same GDP per capita. \n",
    "\n",
    "To further investigate, we specifically look into data in 2015 and 1985."
   ]
  },
  {
   "cell_type": "code",
   "execution_count": null,
   "metadata": {
    "scrolled": false
   },
   "outputs": [],
   "source": [
    "# scatter plot to see suicide rate and GDP per capita for different countries in year 1985\n",
    "year_2015 = plt.scatter(df_new[df_new['year']==2015]['gdp_per_capita ($)'],df_new[df_new['year']==2015]['suicides/100k pop'], color='y')\n",
    "year_1985 = plt.scatter(df_new[df_new['year']==1985]['gdp_per_capita ($)'],df_new[df_new['year']==1985]['suicides/100k pop'])\n",
    "plt.title(\"Scatter plot of every country's suicide rate and GDP percapita in year 1985 and 2015\")\n",
    "plt.xlabel(\"GDP per capita ($)\")\n",
    "plt.ylabel(\"Suicides/100k population\")\n",
    "plt.legend((year_2015, year_1985),('2015', '1985'),scatterpoints=1,loc='upper right',fontsize=8)\n",
    "plt.show()"
   ]
  },
  {
   "cell_type": "markdown",
   "metadata": {},
   "source": [
    "From the scatter plot, we can clearly see that in general the GDP per capita is higher in 2015 than 1985. However, although the hightes suicide rate in one country drops in 2015, it's unclear how the suicide rate distribution in 2015 differs from the suicide rate distribution ino 1985. During both of the years, we can see as GDP per capita increase, there are less countries with extremely low suicide rate as well as countries with extremely high suicide rate. \n",
    "\n",
    "We want to run a linear regression model to check the linear relationship between GDP per capita and suicide rate in both years."
   ]
  },
  {
   "cell_type": "markdown",
   "metadata": {},
   "source": [
    "### Linear Regression Model"
   ]
  },
  {
   "cell_type": "markdown",
   "metadata": {},
   "source": [
    "The simple linear regression model takes following form: \n",
    "\n",
    "y = a+bx\n",
    "\n",
    "where in this case:\n",
    "y is the suicide rate per 100k population \n",
    "x is the GDP per capita in dollar\n",
    "a is the y-incercept \n",
    "b is the gradient, which means the increase the suicide rate per unit increase on GDP per capita."
   ]
  },
  {
   "cell_type": "code",
   "execution_count": null,
   "metadata": {
    "scrolled": true
   },
   "outputs": [],
   "source": [
    "# best fit line in linear regression model\n",
    "a1, b1 = np.polyfit(df_new[df_new['year']==2015]['gdp_per_capita ($)'], df_new[df_new['year']==2015]['suicides/100k pop'], 1)\n",
    "gdp_2015 = np.arange(0,120000)\n",
    "pred_suicide_rate_2015 = a1*gdp_2015 + b1\n",
    "\n",
    "a2, b2 = np.polyfit(df_new[df_new['year']==1985]['gdp_per_capita ($)'], df_new[df_new['year']==1985]['suicides/100k pop'], 1)\n",
    "gdp_1985 = np.arange(0,20000)\n",
    "pred_suicide_rate_1985 = a2*gdp_1985 + b2\n",
    "\n",
    "year_2015 = plt.scatter(df_new[df_new['year']==2015]['gdp_per_capita ($)'],df_new[df_new['year']==2015]['suicides/100k pop'], color='y')\n",
    "year_1985 = plt.scatter(df_new[df_new['year']==1985]['gdp_per_capita ($)'],df_new[df_new['year']==1985]['suicides/100k pop'])\n",
    "plt.plot(gdp_2015, pred_suicide_rate_2015, '-r',color = 'y')\n",
    "plt.plot(gdp_1985, pred_suicide_rate_1985, '-r',color = 'b')\n",
    "plt.title(\"Scatter plot of every country's suicide rate and GDP percapita in year 1985 and 2015\")\n",
    "plt.xlabel(\"GDP per capita ($)\")\n",
    "plt.ylabel(\"Suicides/100k population\")\n",
    "plt.legend((year_2015, year_1985),('2015', '1985'),scatterpoints=1,loc='upper right',fontsize=8)\n",
    "plt.show()"
   ]
  },
  {
   "cell_type": "markdown",
   "metadata": {},
   "source": [
    "According to the linear regression line, in both years, the suicide rate is in positive relation with GDP per capita. Higher the GDP per capita of the country, more likely the country has a higher suicide rate. By looking at the gradients of the regression lines, we conjecture in 1985 the GDP per capita has larger influence on suicide rate compared to 2015.\n",
    "\n",
    "Then we want to check how reliable our linear regression model is."
   ]
  },
  {
   "cell_type": "code",
   "execution_count": null,
   "metadata": {},
   "outputs": [],
   "source": [
    "df_new.rename(columns={'gdp_per_capita ($)':'gdp_per_capita'}, inplace=True)\n",
    "df_new.rename(columns={'suicides/100k pop':'suicides'}, inplace=True)\n",
    "\n",
    "df_new_2015 = df_new[df_new['year']==2015]\n",
    "correlation_2015 = np.corrcoef(df_new_2015['gdp_per_capita'],df_new_2015['suicides'])\n",
    "\n",
    "df_new_1985 = df_new[df_new['year']==1985]\n",
    "correlation_1985 = np.corrcoef(df_new_1985['gdp_per_capita'],df_new_1985['suicides'])\n"
   ]
  },
  {
   "cell_type": "markdown",
   "metadata": {},
   "source": [
    "The correlation of suicide rate and GDP per capita in 2015 is 0.061, which means the data conform little to the linear model. The correlation of suicide rate and GDP per capita in 1985 is 0.168, which means the data conform slightly more to the linear model than data in 2015.\n",
    "\n",
    "To run the hypothesis test with significance level 0.05, we have following hypotheses:\n",
    "\n",
    "Null hypothesis: There is no linear relationship between suicide rate and GDP per capita. (b=0)\n",
    "\n",
    "Alternative hypothesis: There is a linear relationship between suicide rate and GDP per capita. (b not equal to 0)"
   ]
  },
  {
   "cell_type": "markdown",
   "metadata": {},
   "source": [
    "### Hypothesis test for Linear Regression Model for 2015"
   ]
  },
  {
   "cell_type": "code",
   "execution_count": null,
   "metadata": {},
   "outputs": [],
   "source": [
    "#find p-value for linear regression in 2015 \n",
    "outcome_1, predictors_1 = patsy.dmatrices('suicides ~ gdp_per_capita', df_new_2015)\n",
    "mod_1 = sm.OLS(outcome_1, predictors_1)\n",
    "res_1 = mod_1.fit()\n",
    "\n",
    "print(res_1.summary())"
   ]
  },
  {
   "cell_type": "code",
   "execution_count": null,
   "metadata": {},
   "outputs": [],
   "source": [
    "# alternative way to find P-value\n",
    "lm1 = smf.ols(formula='suicides ~ gdp_per_capita', data=df_new_2015).fit()\n",
    "lm1.pvalues"
   ]
  },
  {
   "cell_type": "markdown",
   "metadata": {},
   "source": [
    "The P-value is 0.635, which is larger than 0.05, therefore Null hypothesis (H0) is accepted, and there's no clear linear relationship between GDP per capita and suicide rate in 2015."
   ]
  },
  {
   "cell_type": "markdown",
   "metadata": {},
   "source": [
    "### Hypothesis test for Linear Regression Model for 1985"
   ]
  },
  {
   "cell_type": "code",
   "execution_count": null,
   "metadata": {},
   "outputs": [],
   "source": [
    "#find p-value for linear regression in 2015 \n",
    "outcome_2, predictors_2 = patsy.dmatrices('suicides ~ gdp_per_capita', df_new_1985)\n",
    "mod_2 = sm.OLS(outcome_2, predictors_2)\n",
    "res_2 = mod_2.fit()\n",
    "\n",
    "print(res_1.summary())"
   ]
  },
  {
   "cell_type": "code",
   "execution_count": null,
   "metadata": {},
   "outputs": [],
   "source": [
    "# alternative way to find P-value\n",
    "lm2 = smf.ols(formula='suicides ~ gdp_per_capita', data=df_new_1985).fit()\n",
    "lm2.pvalues"
   ]
  },
  {
   "cell_type": "markdown",
   "metadata": {},
   "source": [
    "The P-value is 0.254, which is larger than 0.05, therefore Null hypothesis (H0) is accepted, and there's no clear linear relationship between GDP per capita and suicide rate in 1985."
   ]
  },
  {
   "cell_type": "markdown",
   "metadata": {},
   "source": [
    "### Conclusion"
   ]
  },
  {
   "cell_type": "markdown",
   "metadata": {},
   "source": [
    "There is no clear linear relationship between country GDP per capita and suicide rate in year 2015 as well as 1985. However, we can see from scatter plot that highter the country's GDP per capita, it's less likely for the country to have extremely high or extremely low suicide rate, and the more predicable the country's suicide rate is. In the countries with low GDP per capita, the flotation of suicide rate might be caused by the countrie's specific situations besides GDP. This being said, it does look like a parabolic curve where as the gdp increased, the suicide rate decreased to a point."
   ]
  },
  {
   "cell_type": "markdown",
   "metadata": {},
   "source": [
    "## Question 5: Is there any relationship between country HDI and suiside rate? "
   ]
  },
  {
   "cell_type": "code",
   "execution_count": null,
   "metadata": {},
   "outputs": [],
   "source": [
    "# combine suicide number of diffent gender and age in same country and same year\n",
    "aggregate_HDI = {'country-year': 'first','country': 'first','year': 'first', 'suicides/100k pop': 'sum', 'HDI for year': 'first'}\n",
    "df_HDI = main_df.groupby(main_df['country-year']).aggregate(aggregate_HDI).reindex(columns=main_df.columns)\n",
    "df_HDI.drop(['sex', 'age', 'suicides_no','population','gdp_for_year ($)','gdp_per_capita ($)','generation'], inplace=True, axis=1)\n",
    "#drop rows where HDI=-1, which means there is no available HDI data for that year\n",
    "df_HDI = df_HDI.drop(df_HDI[df_HDI['HDI for year'] == -1].index)"
   ]
  },
  {
   "cell_type": "markdown",
   "metadata": {},
   "source": [
    "First, we randomly pick some countries to plot the relationship between suicide rate and HDI over years.\n",
    "To make the graph more intuitive, we choose to convert \"suicide/100k population\" to \"suicide rate among the whole population\", so we can better compare the change in HDI versus change in suicide behavoir."
   ]
  },
  {
   "cell_type": "markdown",
   "metadata": {},
   "source": [
    "### United States"
   ]
  },
  {
   "cell_type": "code",
   "execution_count": null,
   "metadata": {},
   "outputs": [],
   "source": [
    "ax = plt.gca()\n",
    "df_country1=df_HDI.loc[df_HDI['country']=='United States']\n",
    "#modify column value to obtain suicide rate\n",
    "df_country1.loc[:,'suicide rate']=df_country1.loc[:,'suicides/100k pop']/100000*100\n",
    "df_country1.plot(kind='line',x='year',y='HDI for year',ax=ax)\n",
    "df_country1.plot(kind='line',x='year',y='suicide rate', color='red', ax=ax)\n",
    "plt.show()"
   ]
  },
  {
   "cell_type": "markdown",
   "metadata": {},
   "source": [
    "### Chile"
   ]
  },
  {
   "cell_type": "code",
   "execution_count": null,
   "metadata": {},
   "outputs": [],
   "source": [
    "ax = plt.gca()\n",
    "df_country3=df_HDI.loc[df_HDI['country']=='Chile']\n",
    "#modify column value to obtain suicide rate\n",
    "df_country3.loc[:,'suicide rate']=df_country3.loc[:,'suicides/100k pop']/100000*100\n",
    "df_country3.plot(kind='line',x='year',y='HDI for year',ax=ax)\n",
    "df_country3.plot(kind='line',x='year',y='suicide rate', color='red', ax=ax)\n",
    "plt.show()"
   ]
  },
  {
   "cell_type": "markdown",
   "metadata": {},
   "source": [
    "### France"
   ]
  },
  {
   "cell_type": "code",
   "execution_count": null,
   "metadata": {},
   "outputs": [],
   "source": [
    "ax = plt.gca()\n",
    "df_country4=df_HDI.loc[df_HDI['country']=='France']\n",
    "#modify column value to obtain suicide rate\n",
    "df_country4.loc[:,'suicide rate']=df_country4.loc[:,'suicides/100k pop']/100000*100\n",
    "df_country4.plot(kind='line',x='year',y='HDI for year',ax=ax)\n",
    "df_country4.plot(kind='line',x='year',y='suicide rate', color='red', ax=ax)\n",
    "plt.show()"
   ]
  },
  {
   "cell_type": "markdown",
   "metadata": {},
   "source": [
    "Interestringly, we can observe a clear negative relationship between suicide rate and HDI in France, indicating that as the human development improves in France over time, the suicide rate greatly decreased. While in the United States, HDI is slowly growing every year but suicide rate maintains around 0.2 smoothly. There is no significant change in both two variables. Thus, we can see that there is no clear relationship is found between two factors in the United States. From the graph above, we can also notice that in Chile, during the time period between 1995 and 2010, suicide rate even increases as HDI increases, which means as human development gets better in Chile, suicide rate even increases between 1995 and 2010. So different countries' suicide rates react differently to the change in HDI. Generally, in most countries, as HDI goes up, suicide rate in the whole country may fluctate in a time period, but there is no sign of a direct negative relationship between suicide rate and HDI."
   ]
  },
  {
   "cell_type": "markdown",
   "metadata": {},
   "source": [
    "### Scatter plot"
   ]
  },
  {
   "cell_type": "code",
   "execution_count": null,
   "metadata": {},
   "outputs": [],
   "source": [
    "# scatter plot to see suicide rate and GDP per capita for countries in different year\n",
    "plt.scatter(df_HDI['HDI for year'],df_HDI['suicides/100k pop'],c=df_HDI['year'])\n",
    "plt.title(\"Scatter plot of every country's suicides/100k pop and HDI\")\n",
    "plt.xlabel(\"HDI\")\n",
    "plt.ylabel(\"Suicides/100k population\")\n",
    "plt.colorbar()\n",
    "plt.show()"
   ]
  },
  {
   "cell_type": "markdown",
   "metadata": {},
   "source": [
    "As we can see in the graph, most countries' HDI show an increasing trend over time. However, as the index getting bigger, there is no clear trend about how suicides/100k pop reacts to HDI value. We can clearly see a peak in suicide rate where country HDI is roughly 0.7, but when HDI is extremely low or extremely high(at two ends of the graph), suicides/100k pop are not very high.  \n",
    "\n",
    "\n",
    "To further investigate, since we are missing some countries' HDI data before 1990, we specifically look into data in 1990 and 2015."
   ]
  },
  {
   "cell_type": "code",
   "execution_count": null,
   "metadata": {},
   "outputs": [],
   "source": [
    "# scatter plot to see suicide rate and HDI for different countries in year 1990 and 2015\n",
    "year_2015 = plt.scatter(df_HDI[df_HDI['year']==2015]['HDI for year'],df_HDI[df_HDI['year']==2015]['suicides/100k pop'], color='y')\n",
    "year_1990 = plt.scatter(df_HDI[df_HDI['year']==1990]['HDI for year'],df_HDI[df_HDI['year']==1990]['suicides/100k pop'])\n",
    "plt.title(\"Scatter plot of every country's suicides/100k pop and HDI in 1990 and 2015\")\n",
    "plt.xlabel(\"HDI for year\")\n",
    "plt.ylabel(\"Suicides/100k population\")\n",
    "plt.legend((year_2015, year_1990),('2015', '1990'),scatterpoints=1,loc='upper right',fontsize=8)\n",
    "plt.show()"
   ]
  },
  {
   "cell_type": "markdown",
   "metadata": {},
   "source": [
    "As most of the points move to the right as time passes, we can see a trend that HDI greatly increases in most countries over time, showing a positive relation between HDI and time. There are less countries with extremely high suicides/100k pop, and most of the countries suicides/100k decreases a little bit in 2015. The data moves down and is more centered at the range between 100-200. However,suicides/100k pop distributions in these two years do not have sigificant difference as HDI changes. \n",
    "\n",
    "We also want to run a linear regression model to check the linear relationship between HDI and suicides/100k pop in both years."
   ]
  },
  {
   "cell_type": "markdown",
   "metadata": {},
   "source": [
    "### Linear regression model"
   ]
  },
  {
   "cell_type": "code",
   "execution_count": null,
   "metadata": {},
   "outputs": [],
   "source": [
    "# best fit line in linear regression model\n",
    "a1, b1 = np.polyfit(df_HDI[df_HDI['year']==2015]['HDI for year'], df_HDI[df_HDI['year']==2015]['suicides/100k pop'], 1)\n",
    "hdi_2015 = np.linspace(0.65,0.95)\n",
    "pred_suicide_rate_2015 = a1*hdi_2015 + b1\n",
    "\n",
    "a2, b2 = np.polyfit(df_HDI[df_HDI['year']==1990]['HDI for year'], df_HDI[df_HDI['year']==1990]['suicides/100k pop'], 1)\n",
    "hdi_1990 = np.linspace(0.5,0.85)\n",
    "pred_suicide_rate_1990 = a2*hdi_1990 + b2\n",
    "\n",
    "year_2015 = plt.scatter(df_HDI[df_HDI['year']==2015]['HDI for year'],df_HDI[df_HDI['year']==2015]['suicides/100k pop'], color='y')\n",
    "year_1990 = plt.scatter(df_HDI[df_HDI['year']==1990]['HDI for year'],df_HDI[df_HDI['year']==1990]['suicides/100k pop'])\n",
    "plt.plot(hdi_2015, pred_suicide_rate_2015, color = 'y' )\n",
    "plt.plot(hdi_1990, pred_suicide_rate_1990,)\n",
    "plt.title(\"Scatter plot of every country's suicides/100k pop and HDI\")\n",
    "plt.xlabel(\"HDI for year\")\n",
    "plt.ylabel(\"Suicides/100k population\")\n",
    "plt.legend((year_2015, year_1990),('2015', '1990'),scatterpoints=1,loc='upper right',fontsize=8)\n",
    "plt.show()"
   ]
  },
  {
   "cell_type": "markdown",
   "metadata": {},
   "source": [
    "In the linear regression model, in both years, the suicide number per 100k population is in positive relation with GDP per capita. That is, higher HDI of the country, more likely the country has a higher suicide number per 100k population. By looking at the gradients of the regression lines, we conjecture in 1990 HDI has larger influence on suicide number compared to 2015.\n",
    "\n",
    "Then we want to check how reliable our linear regression model is."
   ]
  },
  {
   "cell_type": "code",
   "execution_count": null,
   "metadata": {},
   "outputs": [],
   "source": [
    "#calculate correlation coefficient for these two years\n",
    "df_HDI_2015 = df_HDI[df_HDI['year']==2015]\n",
    "correlation_2015 = np.corrcoef(df_HDI_2015['HDI for year'],df_HDI_2015['suicides/100k pop'])\n",
    "\n",
    "df_HDI_1990 = df_HDI[df_HDI['year']==1990]\n",
    "correlation_1990 = np.corrcoef(df_HDI_1990['HDI for year'],df_HDI_1990['suicides/100k pop'])\n",
    "print(correlation_1990)\n",
    "print(correlation_2015)"
   ]
  },
  {
   "cell_type": "markdown",
   "metadata": {},
   "source": [
    "The correlation coefficient between suicide number and HDI is 0.40 in 1990. The correlation coefficient between suicide number and HDI is 0.32 in 2015. It verifies our assumption that suicide number is more related to HDI in early years(1990).\n",
    "\n",
    "To run the hypothesis test with significance level 0.05, we have following hypotheses:\n",
    "\n",
    "Null hypothesis: There is no linear relationship between suicides/100k pop and HDI.\n",
    "\n",
    "Alternative hypothesis: There is a linear relationship between suicides/100k pop and HDI."
   ]
  },
  {
   "cell_type": "markdown",
   "metadata": {},
   "source": [
    "### Hypothesis test for Linear Regression Model for 2015"
   ]
  },
  {
   "cell_type": "code",
   "execution_count": null,
   "metadata": {},
   "outputs": [],
   "source": [
    "#run linear regression model to conform the relationship between suicides/100k pop and HDI in 2015\n",
    "df_HDI_2015.rename(columns={'HDI for year':'HDI'}, inplace=True)\n",
    "df_HDI_2015.rename(columns={'suicides/100k pop':'suicides'}, inplace=True)\n",
    "\n",
    "#find p-value for linear regression in 2015 \n",
    "outcome_1, predictors_1 = patsy.dmatrices('suicides~ HDI', df_HDI_2015)\n",
    "mod_1 = sm.OLS(outcome_1, predictors_1)\n",
    "res_1 = mod_1.fit()\n",
    "\n",
    "print(res_1.summary())"
   ]
  },
  {
   "cell_type": "markdown",
   "metadata": {},
   "source": [
    "P value is 0.015, which is smaller than 0.05, which indicates strong evidence against null hypothesis. So we reject null hypothesis. There is strong relationship between suicide rate and HDI in year 2015."
   ]
  },
  {
   "cell_type": "markdown",
   "metadata": {},
   "source": [
    "### Hypothesis test for Linear Regression Model for 1990"
   ]
  },
  {
   "cell_type": "code",
   "execution_count": null,
   "metadata": {},
   "outputs": [],
   "source": [
    "#run linear regression model to conform the relationship between suicide number and HDI in 1990\n",
    "df_HDI_1990.rename(columns={'HDI for year':'HDI'}, inplace=True)\n",
    "df_HDI_1990.rename(columns={'suicides/100k pop':'suicides'}, inplace=True)\n",
    "\n",
    "#find p-value for linear regression in 2015 \n",
    "outcome_2, predictors_2 = patsy.dmatrices('suicides~ HDI', df_HDI_1990)\n",
    "mod_2 = sm.OLS(outcome_2, predictors_2)\n",
    "res_2 = mod_2.fit()\n",
    "\n",
    "print(res_2.summary())"
   ]
  },
  {
   "cell_type": "markdown",
   "metadata": {},
   "source": [
    "P value is 0.004, which is smaller than 0.05, which indicates strong evidence against null hypothesis. So we reject null hypothesis. There is also strong relationship between suicide rate and HDI in year 1990."
   ]
  },
  {
   "cell_type": "markdown",
   "metadata": {},
   "source": [
    "To conclude, both of our hypothesis tests indicate suicide number per 100k population is in positive relationship with HDI.This fact rejects our original hypothesis that suicide number per 100k population is negatively related to Human Development Index."
   ]
  },
  {
   "cell_type": "markdown",
   "metadata": {},
   "source": [
    "## Question 6: Is there any difference between developed countries and developing countries about suicide rate between 2012 to 2015?"
   ]
  },
  {
   "cell_type": "markdown",
   "metadata": {},
   "source": [
    "We created a new column called \"country classification\" which includes the country classification as a developed or developing. to label countries we used the data from UN.\n",
    "\n",
    "https://www.un.org/en/development/desa/policy/wesp/wesp_current/2014wesp_country_classification.pdf\n",
    "https://www.un.org/en/development/desa/policy/wesp/wesp_current/2012country_class.pdf\n",
    "\n",
    "we only considered the years 2012 to 2015."
   ]
  },
  {
   "cell_type": "code",
   "execution_count": null,
   "metadata": {},
   "outputs": [],
   "source": [
    "# list of developed countries based on UN\n",
    "developed_countries=['Austria', 'Belgium', 'Denmark', 'Finland', 'France', 'Germany', 'Greece', 'Ireland', 'Italy', 'Luxembourg', 'Netherlands', 'Portugal' ,'Spain', 'Sweden', 'United Kingdom', 'Austria', 'Belgium', 'Denmark', 'Finland', 'France', 'Germany', 'Greece', 'Ireland', 'Italy', 'Luxembourg', 'Netherlands', 'Portugal', 'Spain', 'Sweden',\n",
    "'Bulgaria', 'Croatia', 'Cyprus', 'Czech Republic', 'Estonia', 'Hungary', 'Latvia', 'Lithuania', 'Malta', 'Poland', 'Romania', 'Slovakia', 'Slovenia', 'Iceland','Norway', 'Switzerland' , 'Australia', 'Canada', 'Japan', 'New Zealand', 'United States', 'Canada', 'Japan' ]\n",
    "\n",
    "#only considered the years 2012 to 2015\n",
    "main_df=main_df[main_df['year']>=2015]\n",
    "\n",
    "# add a new coloumn as country classification\n",
    "main_df['country classification'] = \"developing\"\n",
    "\n",
    "# iterate through the list of developed country\n",
    "# if finds the country in the list replace the country classification as a developed\n",
    "for i, row in main_df.iterrows():\n",
    "    if(row['country'] in developed_countries):\n",
    "        main_df.loc[i, 'country classification'] = \"developed\""
   ]
  },
  {
   "cell_type": "code",
   "execution_count": null,
   "metadata": {},
   "outputs": [],
   "source": [
    "main_df.groupby(['country classification'])['suicides/100k pop'].mean()"
   ]
  },
  {
   "cell_type": "code",
   "execution_count": null,
   "metadata": {},
   "outputs": [],
   "source": [
    "g=sns.boxplot(x='country classification', y= 'suicides/100k pop',data=main_df)\n",
    "g.set_title(\"suicides/100k pop broken by country classification \")\n",
    "plt.show()"
   ]
  },
  {
   "cell_type": "markdown",
   "metadata": {},
   "source": [
    "the table above , and the box plot suggest that the average suicides/100k pop is higher in the developed countries. but as we can see in the plot, there are many countries that their suicides/100k pop is much higher than average."
   ]
  },
  {
   "cell_type": "markdown",
   "metadata": {},
   "source": [
    "In the next step we want to run the ttest. we should make sure the data distribution is normal. so we plot the graphs for both developed and developing countries."
   ]
  },
  {
   "cell_type": "code",
   "execution_count": null,
   "metadata": {},
   "outputs": [],
   "source": [
    "plt.xlabel(\"suicides/100k pop for developed countries\")\n",
    "plt.ylabel(\"Frequency\")\n",
    "plt.title(\"suicides/100k pop distribution in developed countries\")\n",
    "plt.hist(main_df[main_df['country classification']=='developed']['suicides/100k pop'])"
   ]
  },
  {
   "cell_type": "markdown",
   "metadata": {},
   "source": [
    "As we can see in the graph above, the distribution is not normal, and it is skewed to the left, so we need a log transform suicides/100k for developed countries."
   ]
  },
  {
   "cell_type": "code",
   "execution_count": null,
   "metadata": {},
   "outputs": [],
   "source": [
    "plt.xlabel(\"suicides/100k pop for developing\")\n",
    "plt.ylabel(\"Frequency\")\n",
    "plt.title(\"suicides/100k pop distribution in developing countries\")\n",
    "plt.hist(main_df[main_df['country classification']=='developing']['suicides/100k pop'])"
   ]
  },
  {
   "cell_type": "markdown",
   "metadata": {},
   "source": [
    "As we can see in the graph above, the distribution is not normal in developing, and it is skewed to the left, so we need a log transform suicides/100k pop for developing countries."
   ]
  },
  {
   "cell_type": "markdown",
   "metadata": {},
   "source": [
    "in the next step, we did the log transform of suicides/100k pop for both developed and developing countries. and ploted the graph again. we made a new column called 'log suicides/100k pop'."
   ]
  },
  {
   "cell_type": "code",
   "execution_count": null,
   "metadata": {},
   "outputs": [],
   "source": [
    "# transfer the data to log based since the data skewed to the left\n",
    "main_df['log suicides/100k pop']=main_df['suicides/100k pop']\n",
    "main_df['log suicides/100k pop']=main_df['log suicides/100k pop'].replace(0,1)\n",
    "main_df['log suicides/100k pop']=np.log10(main_df['log suicides/100k pop'])"
   ]
  },
  {
   "cell_type": "code",
   "execution_count": null,
   "metadata": {},
   "outputs": [],
   "source": [
    "plt.xlabel(\"log suicides/100k pop for developed countries\")\n",
    "plt.ylabel(\"Frequency\")\n",
    "plt.title(\"log suicides/100k pop distribution in developed countries\")\n",
    "plt.hist(main_df[main_df['country classification']=='developed']['log suicides/100k pop'])"
   ]
  },
  {
   "cell_type": "markdown",
   "metadata": {},
   "source": [
    "from the graph, after log transform we have a normal distribution for developed countries."
   ]
  },
  {
   "cell_type": "code",
   "execution_count": null,
   "metadata": {},
   "outputs": [],
   "source": [
    "plt.xlabel(\"log suicides/100k pop for developing countries\")\n",
    "plt.ylabel(\"Frequency\")\n",
    "plt.title(\"log suicides/100k pop distribution in developed countries\")\n",
    "plt.hist(main_df[main_df['country classification']=='develfrom the graph, after log transform we have a normal distribution for developed countries.oping']['log suicides/100k pop'])"
   ]
  },
  {
   "cell_type": "markdown",
   "metadata": {},
   "source": [
    "from the graph, after log transform we have a normal distribution for developing countries.\n",
    "and now, we can run the ttest."
   ]
  },
  {
   "cell_type": "code",
   "execution_count": null,
   "metadata": {},
   "outputs": [],
   "source": [
    "#run the ttest\n",
    "s_developed = main_df.loc[main_df['country classification'] == 'developed' , ['log suicides/100k pop']]\n",
    "s_developing = main_df.loc[main_df['country classification'] == 'developing' , ['log suicides/100k pop']]\n",
    "avg_s_developed = s_developed ['log suicides/100k pop'].mean()\n",
    "avg_s_developing = s_developing ['log suicides/100k pop'].mean()\n",
    "\n",
    "t_val, p_val = ttest_ind(s_developed, s_developing, equal_var = False)\n",
    "if p_val < 0.01:\n",
    "    print('There is a significant difference!')\n",
    "else:\n",
    "    print('There is NOT a significant difference!')"
   ]
  },
  {
   "cell_type": "markdown",
   "metadata": {},
   "source": [
    "the result of ttest indicates that there is a significat difference between two sample means from two normally distributed suicides/100k pop.\n",
    "The devevoled countries has the highest suicide rate, however we should considered the fact that the dataset is not complete because of unavailability of data from countries in Africa, Southeast Asia, and Eastern Mediterranian."
   ]
  },
  {
   "cell_type": "markdown",
   "metadata": {},
   "source": [
    "## Question 7:  which continent has the highest suicide rate in 2015?"
   ]
  },
  {
   "cell_type": "markdown",
   "metadata": {},
   "source": [
    "To answer this question, we made a new coloumn called \" continent\". we used the dictionary to fill out this column.\n",
    "because of unavailability of data from countries in Africa, Southeast Asia, and Eastern Mediterranian, we decided to drop the continents Africa and Asia.\n",
    "\n",
    "https://gist.github.com/pamelafox/986163"
   ]
  },
  {
   "cell_type": "code",
   "execution_count": null,
   "metadata": {},
   "outputs": [],
   "source": [
    "# dictionry of countries and its continents based on https://gist.github.com/pamelafox/986163\n",
    "countries = [{'timezones': ['America/Antigua'], 'code': 'AG', 'continent': 'North America', 'name': 'Antigua and Barbuda', 'capital': \"St. John's\"},{'timezones': ['Asia/Yerevan'], 'code': 'AM', 'continent': 'Asia', 'name': 'Armenia', 'capital': 'Yerevan'},{'timezones': ['America/Argentina/Buenos_Aires', 'America/Argentina/Cordoba', 'America/Argentina/Jujuy', 'America/Argentina/Tucuman', 'America/Argentina/Catamarca', 'America/Argentina/La_Rioja', 'America/Argentina/San_Juan', 'America/Argentina/Mendoza', 'America/Argentina/Rio_Gallegos', 'America/Argentina/Ushuaia'], 'code': 'AR', 'continent': 'South America', 'name': 'Argentina', 'capital': 'Buenos Aires'},{'timezones': ['Europe/Vienna'], 'code': 'AT', 'continent': 'Europe', 'name': 'Austria', 'capital': 'Vienna'},{'timezones': ['Australia/Lord_Howe', 'Australia/Hobart', 'Australia/Currie', 'Australia/Melbourne', 'Australia/Sydney', 'Australia/Broken_Hill', 'Australia/Brisbane', 'Australia/Lindeman', 'Australia/Adelaide', 'Australia/Darwin', 'Australia/Perth'], 'code': 'AU', 'continent': 'Oceania', 'name': 'Australia', 'capital': 'Canberra'}, {'timezones': ['America/Barbados'], 'code': 'BB', 'continent': 'North America', 'name': 'Barbados', 'capital': 'Bridgetown'},{'timezones': ['Europe/Brussels'], 'code': 'BE', 'continent': 'Europe', 'name': 'Belgium', 'capital': 'Brussels'},{'timezones': ['Europe/Sofia'], 'code': 'BG', 'continent': 'Europe', 'name': 'Bulgaria', 'capital': 'Sofia'},{'timezones': ['Asia/Bahrain'], 'code': 'BH', 'continent': 'Asia', 'name': 'Bahrain', 'capital': 'Manama'},{'timezones': ['America/Noronha', 'America/Belem', 'America/Fortaleza', 'America/Recife', 'America/Araguaina', 'America/Maceio', 'America/Bahia', 'America/Sao_Paulo', 'America/Campo_Grande', 'America/Cuiaba', 'America/Porto_Velho', 'America/Boa_Vista', 'America/Manaus', 'America/Eirunepe', 'America/Rio_Branco'], 'code': 'BR', 'continent': 'South America', 'name': 'Brazil', 'capital': 'Bras\\xc3\\xadlia'},{'timezones': ['America/Nassau'], 'code': 'BS', 'continent': 'North America', 'name': 'Bahamas', 'capital': 'Nassau'},{'timezones': ['Europe/Minsk'], 'code': 'BY', 'continent': 'Europe', 'name': 'Belarus', 'capital': 'Minsk'},{'timezones': ['America/Belize'], 'code': 'BZ', 'continent': 'North America', 'name': 'Belize', 'capital': 'Belmopan'},{'timezones': ['America/St_Johns', 'America/Halifax', 'America/Glace_Bay', 'America/Moncton', 'America/Goose_Bay', 'America/Blanc-Sablon', 'America/Montreal', 'America/Toronto', 'America/Nipigon', 'America/Thunder_Bay', 'America/Pangnirtung', 'America/Iqaluit', 'America/Atikokan', 'America/Rankin_Inlet', 'America/Winnipeg', 'America/Rainy_River', 'America/Cambridge_Bay', 'America/Regina', 'America/Swift_Current', 'America/Edmonton', 'America/Yellowknife', 'America/Inuvik', 'America/Dawson_Creek', 'America/Vancouver', 'America/Whitehorse', 'America/Dawson'], 'code': 'CA', 'continent': 'North America', 'name': 'Canada', 'capital': 'Ottawa'},{'timezones': ['America/Santiago', 'Pacific/Easter'], 'code': 'CL', 'continent': 'South America', 'name': 'Chile', 'capital': 'Santiago'},{'timezones': ['America/Bogota'], 'code': 'CO', 'continent': 'South America', 'name': 'Colombia', 'capital': 'Bogot\\xc3\\xa1'},{'timezones': ['America/Costa_Rica'], 'code': 'CR', 'continent': 'North America', 'name': 'Costa Rica', 'capital': 'San Jos\\xc3\\xa9'},{'timezones': ['America/Havana'], 'code': 'CU', 'continent': 'North America', 'name': 'Cuba', 'capital': 'Havana'},{'timezones': ['Asia/Nicosia'], 'code': 'CY', 'continent': 'Asia', 'name': 'Cyprus', 'capital': 'Nicosia'},{'timezones': ['Europe/Prague'], 'code': 'CZ', 'continent': 'Europe', 'name': 'Czech Republic', 'capital': 'Prague'},{'timezones': ['Europe/Berlin'], 'code': 'DE', 'continent': 'Europe', 'name': 'Germany', 'capital': 'Berlin'},{'timezones': ['Europe/Copenhagen'], 'code': 'DK', 'continent': 'Europe', 'name': 'Denmark', 'capital': 'Copenhagen'},{'timezones': ['America/Dominica'], 'code': 'DM', 'continent': 'North America', 'name': 'Dominica', 'capital': 'Roseau'},{'timezones': ['America/Guayaquil', 'Pacific/Galapagos'], 'code': 'EC', 'continent': 'South America', 'name': 'Ecuador', 'capital': 'Quito'},{'timezones': ['Europe/Tallinn'], 'code': 'EE', 'continent': 'Europe', 'name': 'Estonia', 'capital': 'Tallinn'},{'timezones': ['Europe/Helsinki'], 'code': 'FI', 'continent': 'Europe', 'name': 'Finland', 'capital': 'Helsinki'},{'timezones': ['Pacific/Fiji'], 'code': 'FJ', 'continent': 'Oceania', 'name': 'Fiji', 'capital': 'Suva'},{'timezones': ['Europe/Paris'], 'code': 'FR', 'continent': 'Europe', 'name': 'France', 'capital': 'Paris'},{'timezones': ['Asia/Tbilisi'], 'code': 'GE', 'continent': 'Asia', 'name': 'Georgia', 'capital': 'Tbilisi'},{'timezones': ['Europe/Athens'], 'code': 'GR', 'continent': 'Europe', 'name': 'Greece', 'capital': 'Athens'},{'timezones': ['America/Guatemala'], 'code': 'GT', 'continent': 'North America', 'name': 'Guatemala', 'capital': 'Guatemala City'},{'timezones': ['America/Guyana'], 'code': 'GY', 'continent': 'South America', 'name': 'Guyana', 'capital': 'Georgetown'},{'timezones': ['Europe/Budapest'], 'code': 'HU', 'continent': 'Europe', 'name': 'Hungary', 'capital': 'Budapest'},{'timezones': ['Europe/Dublin'], 'code': 'IE', 'continent': 'Europe', 'name': 'Ireland', 'capital': 'Dublin'},{'timezones': ['Asia/Jerusalem'], 'code': 'IL', 'continent': 'Asia', 'name': 'Israel', 'capital': 'Jerusalem'},{'timezones': ['Atlantic/Reykjavik'], 'code': 'IS', 'continent': 'Europe', 'name': 'Iceland', 'capital': 'Reykjav\\xc3\\xadk'},{'timezones': ['Europe/Rome'], 'code': 'IT', 'continent': 'Europe', 'name': 'Italy', 'capital': 'Rome'},{'timezones': ['America/Jamaica'], 'code': 'JM', 'continent': 'North America', 'name': 'Jamaica', 'capital': 'Kingston'},{'timezones': ['Asia/Tokyo'], 'code': 'JP', 'continent': 'Asia', 'name': 'Japan', 'capital': 'Tokyo'},{'timezones': ['Asia/Bishkek'], 'code': 'KG', 'continent': 'Asia', 'name': 'Kyrgyzstan', 'capital': 'Bishkek'},{'timezones': ['Pacific/Tarawa', 'Pacific/Enderbury', 'Pacific/Kiritimati'], 'code': 'KI', 'continent': 'Oceania', 'name': 'Kiribati', 'capital': 'Tarawa'},{'timezones': ['Asia/Kuwait'], 'code': 'KW', 'continent': 'Asia', 'name': 'Kuwait', 'capital': 'Kuwait City'},{'timezones': ['Europe/Vilnius'], 'code': 'LT', 'continent': 'Europe', 'name': 'Lithuania', 'capital': 'Vilnius'},{'timezones': ['Europe/Luxembourg'], 'code': 'LU', 'continent': 'Europe', 'name': 'Luxembourg', 'capital': 'Luxembourg City'},{'timezones': ['Europe/Riga'], 'code': 'LV', 'continent': 'Europe', 'name': 'Latvia', 'capital': 'Riga'},{'timezones': ['Asia/Ulaanbaatar', 'Asia/Hovd', 'Asia/Choibalsan'], 'code': 'MN', 'continent': 'Asia', 'name': 'Mongolia', 'capital': 'Ulaanbaatar'},{'timezones': ['Europe/Malta'], 'code': 'MT', 'continent': 'Europe', 'name': 'Malta', 'capital': 'Valletta'},{'timezones': ['Indian/Mauritius'], 'code': 'MU', 'continent': 'Africa', 'name': 'Mauritius', 'capital': 'Port Louis'},{'timezones': ['Indian/Maldives'], 'code': 'MV', 'continent': 'Asia', 'name': 'Maldives', 'capital': 'Mal\\xc3\\xa9'},{'timezones': ['America/Mexico_City', 'America/Cancun', 'America/Merida', 'America/Monterrey', 'America/Mazatlan', 'America/Chihuahua', 'America/Hermosillo', 'America/Tijuana'], 'code': 'MX', 'continent': 'North America', 'name': 'Mexico', 'capital': 'Mexico City'},{'timezones': ['America/Managua'], 'code': 'NI', 'continent': 'North America', 'name': 'Nicaragua', 'capital': 'Managua'},{'timezones': ['Europe/Amsterdam'], 'code': 'NL', 'continent': 'Europe', 'name': 'Netherlands', 'capital': 'Amsterdam'},{'timezones': ['Europe/Oslo'], 'code': 'NO', 'continent': 'Europe', 'name': 'Norway', 'capital': 'Oslo'},{'timezones': ['Pacific/Auckland', 'Pacific/Chatham'], 'code': 'NZ', 'continent': 'Oceania', 'name': 'New Zealand', 'capital': 'Wellington'},{'timezones': ['Asia/Muscat'], 'code': 'OM', 'continent': 'Asia', 'name': 'Oman', 'capital': 'Muscat'},{'timezones': ['America/Panama'], 'code': 'PA', 'continent': 'North America', 'name': 'Panama', 'capital': 'Panama City'},{'timezones': ['Asia/Manila'], 'code': 'PH', 'continent': 'Asia', 'name': 'Philippines', 'capital': 'Manila'},{'timezones': ['Europe/Warsaw'], 'code': 'PL', 'continent': 'Europe', 'name': 'Poland', 'capital': 'Warsaw'},{'timezones': ['Europe/Lisbon', 'Atlantic/Madeira', 'Atlantic/Azores'], 'code': 'PT', 'continent': 'Europe', 'name': 'Portugal', 'capital': 'Lisbon'},{'timezones': ['America/Asuncion'], 'code': 'PY', 'continent': 'South America', 'name': 'Paraguay', 'capital': 'Asunci\\xc3\\xb3n'},{'timezones': ['Asia/Qatar'], 'code': 'QA', 'continent': 'Asia', 'name': 'Qatar', 'capital': 'Doha'},{'timezones': ['Europe/Bucharest'], 'code': 'RO', 'continent': 'Europe', 'name': 'Romania', 'capital': 'Bucharest'},{'timezones': ['Europe/Kaliningrad', 'Europe/Moscow', 'Europe/Volgograd', 'Europe/Samara', 'Asia/Yekaterinburg', 'Asia/Omsk', 'Asia/Novosibirsk', 'Asia/Krasnoyarsk', 'Asia/Irkutsk', 'Asia/Yakutsk', 'Asia/Vladivostok', 'Asia/Sakhalin', 'Asia/Magadan', 'Asia/Kamchatka', 'Asia/Anadyr'], 'code': 'RU', 'continent': 'Europe', 'name': 'Russian Federation', 'capital': 'Moscow'},{'timezones': ['Indian/Mahe'], 'code': 'SC', 'continent': 'Africa', 'name': 'Seychelles', 'capital': 'Victoria'},{'timezones': ['Europe/Stockholm'], 'code': 'SE', 'continent': 'Europe', 'name': 'Sweden', 'capital': 'Stockholm'},{'timezones': ['Asia/Singapore'], 'code': 'SG', 'continent': 'Asia', 'name': 'Singapore', 'capital': 'Singapore'},{'timezones': ['Europe/Ljubljana'], 'code': 'SI', 'continent': 'Europe', 'name': 'Slovenia', 'capital': 'Ljubljana'},{'timezones': ['Europe/Bratislava'], 'code': 'SK', 'continent': 'Europe', 'name': 'Slovakia', 'capital': 'Bratislava'},{'timezones': ['Europe/San_Marino'], 'code': 'SM', 'continent': 'Europe', 'name': 'San Marino', 'capital': 'San Marino'},{'timezones': ['America/Paramaribo'], 'code': 'SR', 'continent': 'South America', 'name': 'Suriname', 'capital': 'Paramaribo'},{'timezones': ['Asia/Bangkok'], 'code': 'TH', 'continent': 'Asia', 'name': 'Thailand', 'capital': 'Bangkok'},{'timezones': ['Asia/Ashgabat'], 'code': 'TM', 'continent': 'Asia', 'name': 'Turkmenistan', 'capital': 'Ashgabat'},{'timezones': ['Europe/Istanbul'], 'code': 'TR', 'continent': 'Asia', 'name': 'Turkey', 'capital': 'Ankara'},{'timezones': ['America/Port_of_Spain'], 'code': 'TT', 'continent': 'North America', 'name': 'Trinidad and Tobago', 'capital': 'Port of Spain'},{'timezones': ['Europe/Kiev', 'Europe/Uzhgorod', 'Europe/Zaporozhye', 'Europe/Simferopol'], 'code': 'UA', 'continent': 'Europe', 'name': 'Ukraine', 'capital': 'Kiev'},{'timezones': ['America/New_York', 'America/Detroit', 'America/Kentucky/Louisville', 'America/Kentucky/Monticello', 'America/Indiana/Indianapolis', 'America/Indiana/Marengo', 'America/Indiana/Knox', 'America/Indiana/Vevay', 'America/Chicago', 'America/Indiana/Vincennes', 'America/Indiana/Petersburg', 'America/Menominee', 'America/North_Dakota/Center', 'America/North_Dakota/New_Salem', 'America/Denver', 'America/Boise', 'America/Shiprock', 'America/Phoenix', 'America/Los_Angeles', 'America/Anchorage', 'America/Juneau', 'America/Yakutat', 'America/Nome', 'America/Adak', 'Pacific/Honolulu'], 'code': 'US', 'continent': 'North America', 'name': 'United States', 'capital': 'Washington, D.C.'},{'timezones': ['America/Montevideo'], 'code': 'UY', 'continent': 'South America', 'name': 'Uruguay', 'capital': 'Montevideo'},{'timezones': ['Asia/Samarkand', 'Asia/Tashkent'], 'code': 'UZ', 'continent': 'Asia', 'name': 'Uzbekistan', 'capital': 'Tashkent'},{'timezones': ['Europe/Sarajevo'], 'code': 'BA', 'continent': 'Europe', 'name': 'Bosnia and Herzegovina', 'capital': 'Sarajevo'},{'timezones': ['Europe/Zagreb'], 'code': 'HR', 'continent': 'Europe', 'name': 'Croatia', 'capital': 'Zagreb'},{'timezones': ['America/El_Salvador'], 'code': 'SV', 'continent': 'North America', 'name': 'El Salvador', 'capital': 'San Salvador'},{'timezones': ['America/Grenada'], 'code': 'GD', 'continent': 'North America', 'name': 'Grenada', 'capital': \"St. George's\"},{'timezones': ['Asia/Almaty', 'Asia/Qyzylorda', 'Asia/Aqtobe', 'Asia/Aqtau', 'Asia/Oral'], 'code': 'KZ', 'continent': 'Asia', 'name': 'Kazakhstan', 'capital': 'Astana'},{'timezones': ['Europe/Podgorica'], 'code': 'ME', 'continent': 'Europe', 'name': 'Montenegro', 'capital': 'Podgorica'},{'timezones': ['America/St_Kitts'], 'code': 'KN', 'continent': 'North America', 'name': 'Saint Kitts and Nevis', 'capital': 'Basseterre'},{'timezones': ['America/St_Lucia'], 'code': 'LC', 'continent': 'North America', 'name': 'Saint Lucia', 'capital': 'Castries'},{'timezones': ['America/St_Vincent'], 'code': 'VC', 'continent': 'North America', 'name': 'Saint Vincent and Grenadines', 'capital': 'Kingstown'},{'timezones': ['Europe/Belgrade'], 'code': 'RS', 'continent': 'Europe', 'name': 'Serbia', 'capital': 'Belgrade'},{'timezones': ['Africa/Johannesburg'], 'code': 'ZA', 'continent': 'Africa', 'name': 'South Africa', 'capital': 'Pretoria'},{'timezones': ['Asia/Colombo'], 'code': 'LK', 'continent': 'Asia', 'name': 'Sri Lanka', 'capital': 'Sri Jayewardenepura Kotte'},{'timezones': ['Europe/Zurich'], 'code': 'CH', 'continent': 'Europe', 'name': 'Switzerland', 'capital': 'Bern'},{'timezones': ['Asia/Dubai'], 'code': 'AE', 'continent': 'Asia', 'name': 'United Arab Emirates', 'capital': 'Abu Dhabi'},{'timezones': ['Europe/London'], 'code': 'GB', 'continent': 'Europe', 'name': 'United Kingdom', 'capital': 'London'}, {'timezones': ['?'], 'code': '?', 'continent': 'Asia', 'name': 'Macau', 'capital': '?'}, {'timezones': ['?'], 'code': '?', 'continent': 'North America', 'name': 'Puerto Rico', 'capital': '?'}, {'timezones': ['?'], 'code': '?', 'continent': 'Asia', 'name': 'Republic of Korea', 'capital': '?'}, {'timezones': ['Europe/Madrid', 'Africa/Ceuta', 'Atlantic/Canary'], 'code': 'ES', 'continent': 'Europe', 'name': 'Spain', 'capital': 'Madrid'}]"
   ]
  },
  {
   "cell_type": "code",
   "execution_count": null,
   "metadata": {},
   "outputs": [],
   "source": [
    "# Make new variable 'continent' that represent continent of each country\n",
    "# we only considered the year 2015\n",
    "main_df=main_df[main_df['year']==2015]\n",
    "main_df['continent'] = \"NA\"\n",
    "\n",
    "# iterate through the dataframe and dictionary\n",
    "for i, row in main_df.iterrows():\n",
    "        for j in countries:\n",
    "            if (row['country']==j[\"name\"]):\n",
    "                main_df.loc[i, 'continent'] = j[\"continent\"]\n"
   ]
  },
  {
   "cell_type": "markdown",
   "metadata": {},
   "source": [
    "we dropped the continent Asia and Africa because of unavailability of data from thoes continents."
   ]
  },
  {
   "cell_type": "code",
   "execution_count": null,
   "metadata": {},
   "outputs": [],
   "source": [
    "#drop Africa and Asia\n",
    "main_df=main_df[main_df['continent']!='Africa']\n",
    "main_df=main_df[main_df['continent']!='Asia']\n",
    "\n",
    "continent_group = main_df.groupby(['continent']).mean()\n",
    "continent_group = continent_group.sort_values(by=['suicides/100k pop'], ascending=False)\n",
    "continent_group.plot(y='suicides/100k pop',kind=\"bar\", figsize=(5, 5), title=\"Average Suicides/100k in Each continent 2015\")"
   ]
  },
  {
   "cell_type": "markdown",
   "metadata": {},
   "source": [
    "As we can see in the graph above, Europe has the highest suicide rate. The countries Lithuania, Slovenia, and Hungary, has the highest suicide rate in 2015 which are in Europe and are considered as developed."
   ]
  },
  {
   "cell_type": "markdown",
   "metadata": {},
   "source": [
    "# Ethics & Privacy"
   ]
  },
  {
   "cell_type": "markdown",
   "metadata": {},
   "source": [
    "- Based on the Kaggle policy we complied that we use the Services for our own internal, personal, non-commercial use, and not on behalf of or for the benefit of any third party therefore we have the permission to use the data. Since what we are doing is a non-profit school project that is not for the benefit of any third party, we believe that we have permission to use the data. (https://www.kaggle.com/terms)\n",
    "- We believe that we do not need to deal with the privacy concerns since the data is masked. Similar to data that is protected by the Safe Harbour method, we cannot see any identifiers of the individuals that are in this dataset.\n",
    "- There is potential bias in our dataset, that is, the dataset is not complete. It is missing some countries (including China and India, which are the two countries with most population in the world) therefore a large number of population is excluded in this dataset.\n",
    "- Another issue is that we do not know how the data was collected, therefore we are not sure if the data is completely accurate. It is possible that in some countries the suiciders were not found or some people’s cause of death was misidentified.\n",
    "- Unfortunately we cannot tell if the data is collected exactly accurate or not. However, since the dataset is analyzing the relationship among age, gender and country GDP, we can analyze the data even though the data does not include every country in the world since we are doing the hypothesis test of relationship .\n",
    "- This is a relatively shallow discovery into this incredibly serious issue, and so far more work needs to be done to start to draw strong conclusions about this about who to target with help resources etc.\n"
   ]
  },
  {
   "cell_type": "markdown",
   "metadata": {},
   "source": [
    "# Conclusion & Discussion"
   ]
  },
  {
   "cell_type": "markdown",
   "metadata": {},
   "source": [
    ">In this project, we want to see if objective conditions that are out of one's control, like gender, age and the countries people live in, affects suicide rate. The data set we use includes suicide numbers of different ages, different genders and different countries as well as the country’s GDP and HDI from 1985 to 2016. \n",
    "\n",
    ">Is older male people living in a country with low HDI more likely to commit suicide? To answer this question, we did some investigations. First, we looked at the total suicide number across the world in every year and found that the number of people commit suicide every year isn’t growing. Then we looked at number of people within each gender and age group committed suicide and concluded that male and people over 75 are more likely to commit suicide. More specifically, the top 2 countries with highest suicide numbers, which are Lithuania, Sri Lanka. Both have decreasing suicide population.  In addition, for all three countries, male takes the majority of the suicide population, as well as elderly people have higher suicide rate. To further investigate relationship between suicide rate and GDP or HDI, we found suicide has nothing to do with GDP but in a positive linear relationship with HDI. Among developed countries, the suicide rate is higher, although the data is biased with fewer developing countries included in dataset. Due to the limitation of data, we also conclude Europe has the highest suicide rate among continents while we drop Asia and Africa.\n",
    "\n",
    "> We were able to find that out of the 5 main hypotheses that we had, year did not have a major impact on suicide rate. On the other hand, all of the other factors outside of the person's control were factors linked to suicide rate. \n",
    "\n",
    ">To conclude, we believe suicide is related to objective conditions like gender, age as well as the country the person lives. Higher the HDI of the country, more likely the person will commit suicide. Utilizing this conclusion, we can better target the population which is under higher risk of suicide and take more effective preventive actions with limited resources. In a long term, we wish to see less people give up their lives with despair. "
   ]
  }
 ],
 "metadata": {
  "kernelspec": {
   "display_name": "Python 3",
   "language": "python",
   "name": "python3"
  },
  "language_info": {
   "codemirror_mode": {
    "name": "ipython",
    "version": 3
   },
   "file_extension": ".py",
   "mimetype": "text/x-python",
   "name": "python",
   "nbconvert_exporter": "python",
   "pygments_lexer": "ipython3",
   "version": "3.6.7"
  }
 },
 "nbformat": 4,
 "nbformat_minor": 2
}
